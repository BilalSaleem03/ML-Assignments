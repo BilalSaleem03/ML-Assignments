{
  "nbformat": 4,
  "nbformat_minor": 0,
  "metadata": {
    "colab": {
      "provenance": []
    },
    "kernelspec": {
      "name": "python3",
      "display_name": "Python 3"
    },
    "language_info": {
      "name": "python"
    }
  },
  "cells": [
    {
      "cell_type": "markdown",
      "source": [
        "text  , , functions , dformate"
      ],
      "metadata": {
        "id": "mjTm1aR9_DE6"
      }
    },
    {
      "cell_type": "markdown",
      "source": [
        "###Write a function to check if a given string is a palindrome (ignoring spaces and case).\n",
        "(a word, phrase, or sequence that reads the same backwards as forwards, e.g. madam or\n",
        "nurses run.) **bold text**"
      ],
      "metadata": {
        "id": "15xl5IxFo6YD"
      }
    },
    {
      "cell_type": "code",
      "execution_count": null,
      "metadata": {
        "colab": {
          "base_uri": "https://localhost:8080/"
        },
        "id": "8JumwGxMZFaI",
        "outputId": "0c9cca81-09ed-49c6-b593-3fcdd127b9e8"
      },
      "outputs": [
        {
          "output_type": "stream",
          "name": "stdout",
          "text": [
            "Palindrom\n"
          ]
        }
      ],
      "source": [
        "str1 = \"aa  dd    \"\n",
        "str2=\"ddaa\"\n",
        "\n",
        "str1 = str1.strip().replace(\" \" , \"\").lower()\n",
        "str2 = str2.strip().replace(\" \" , \"\").lower()\n",
        "\n",
        "if(str1 == str2[::-1]):\n",
        "  print(\"Palindrom\")\n",
        "else:\n",
        "  print(\"Not Palindrom\")\n",
        "\n"
      ]
    },
    {
      "cell_type": "code",
      "source": [
        "[i for i in range(10)]"
      ],
      "metadata": {
        "colab": {
          "base_uri": "https://localhost:8080/"
        },
        "id": "h0iUhakT_TWy",
        "outputId": "ab7cb0a7-2d28-4a67-c14c-c34639ffdf91"
      },
      "execution_count": null,
      "outputs": [
        {
          "output_type": "execute_result",
          "data": {
            "text/plain": [
              "[0, 1, 2, 3, 4, 5, 6, 7, 8, 9]"
            ]
          },
          "metadata": {},
          "execution_count": 2
        }
      ]
    },
    {
      "cell_type": "markdown",
      "source": [
        "##Check if two strings are anagrams of each other.\n",
        "(a word, phrase, or name formed by rearranging the letters of another, such as spar, formed\n",
        "from rasp.)"
      ],
      "metadata": {
        "id": "rZwKNjPTpFvh"
      }
    },
    {
      "cell_type": "code",
      "source": [
        "str1 = \"rasp\"\n",
        "str2 = \"spar\"\n",
        "str1 = str1.strip().replace(\" \" , \"\").lower()\n",
        "str2 = str2.strip().replace(\" \" , \"\").lower()\n",
        "str1Dic = {}\n",
        "str2Dic = {}\n",
        "for i in str1:\n",
        "  if(i in str1Dic):\n",
        "    str1Dic[i] += 1\n",
        "  else:\n",
        "    str1Dic[i] = 1\n",
        "for i in str2:\n",
        "  if(i in str2Dic):\n",
        "    str2Dic[i] += 1\n",
        "  else:\n",
        "    str2Dic[i] = 1\n",
        "\n",
        "\n",
        "if(str1Dic != str2Dic):\n",
        "    print(\"Not anagram..\")\n",
        "else:\n",
        "  print(\"IsAnagram\")\n",
        "\n",
        "\n"
      ],
      "metadata": {
        "colab": {
          "base_uri": "https://localhost:8080/"
        },
        "id": "UYSSdo3D4g0P",
        "outputId": "731bea92-6570-4273-9f7d-5961b43a1e65"
      },
      "execution_count": null,
      "outputs": [
        {
          "output_type": "stream",
          "name": "stdout",
          "text": [
            "IsAnagram\n"
          ]
        }
      ]
    },
    {
      "cell_type": "markdown",
      "source": [
        "## Count the frequency of each character in a string and print it in a dictionary format."
      ],
      "metadata": {
        "id": "J-kja_3LpKLs"
      }
    },
    {
      "cell_type": "code",
      "source": [
        "str1 = \"spappr\"\n",
        "str1 = str1.strip().replace(\" \" , \"\").lower()\n",
        "\n",
        "str1Dic = {}\n",
        "for i in str1:\n",
        "  if(i in str1Dic):\n",
        "    str1Dic[i] += 1\n",
        "  else:\n",
        "    str1Dic[i] = 1\n",
        "\n",
        "print((str1Dic))"
      ],
      "metadata": {
        "colab": {
          "base_uri": "https://localhost:8080/"
        },
        "id": "ceI3iIhn8s5_",
        "outputId": "75bf0c68-1952-4bcb-c59b-4e860c7f63db"
      },
      "execution_count": null,
      "outputs": [
        {
          "output_type": "stream",
          "name": "stdout",
          "text": [
            "{'s': 1, 'p': 3, 'a': 1, 'r': 1}\n"
          ]
        }
      ]
    },
    {
      "cell_type": "markdown",
      "source": [
        "##Sort a list of strings by their length and alphabetically if lengths are equal."
      ],
      "metadata": {
        "id": "f_Ah9JMEpOpP"
      }
    },
    {
      "cell_type": "code",
      "source": [
        "def sort_key(word):\n",
        "    return (len(word), word)\n",
        "\n",
        "words = [\"cat\", \"bat\", \"apple\", \"dog\", \"banana\"]\n",
        "words.sort(key=sort_key)\n",
        "print(words)"
      ],
      "metadata": {
        "colab": {
          "base_uri": "https://localhost:8080/"
        },
        "id": "G15SkBy79Qpg",
        "outputId": "fb925c03-2ed3-47ec-89c3-ee9bcb33f2ea"
      },
      "execution_count": null,
      "outputs": [
        {
          "output_type": "stream",
          "name": "stdout",
          "text": [
            "['bat', 'cat', 'dog', 'apple', 'banana']\n"
          ]
        }
      ]
    },
    {
      "cell_type": "markdown",
      "source": [
        "##Given a list with numbers, return a list that contains only numbers that appear once."
      ],
      "metadata": {
        "id": "W8sZuSirpSc5"
      }
    },
    {
      "cell_type": "code",
      "source": [
        "numbers = [1,2 ,3, 4,5 ,3 ,4,7 , 1 ,2 ,2,2]\n",
        "\n",
        "dic= {}\n",
        "sol = []\n",
        "\n",
        "for num in numbers:\n",
        "  if(num in dic):\n",
        "    dic[num] +=1\n",
        "  else:\n",
        "    dic[num] = 1\n",
        "for key in dic:\n",
        "  if(dic[key] == 1):\n",
        "    sol.append(key)\n",
        "\n",
        "print(sol)"
      ],
      "metadata": {
        "colab": {
          "base_uri": "https://localhost:8080/"
        },
        "id": "oT3XlL2-_aBw",
        "outputId": "dfa16be9-1893-43f7-9175-6d77f9caa677"
      },
      "execution_count": null,
      "outputs": [
        {
          "output_type": "stream",
          "name": "stdout",
          "text": [
            "[5, 7]\n"
          ]
        }
      ]
    },
    {
      "cell_type": "markdown",
      "source": [
        "##Write a function to flatten a nested list of integers:\n",
        "([[1, 2], [3, 4], 5] → [1, 2, 3, 4, 5])"
      ],
      "metadata": {
        "id": "WXG7XLFipZZf"
      }
    },
    {
      "cell_type": "code",
      "source": [
        "# nestedList = [[1, 2], [3, 4], 5]\n",
        "# sol =[]\n",
        "# for i in nestedList:\n",
        "\n",
        "#   # if isinstance(i,list):\n",
        "#   if isinstance(i, list):\n",
        "#     for j in i:\n",
        "#       sol.append(j)\n",
        "#   else:\n",
        "#     sol.append(i)\n",
        "# print(sol)\n",
        "\n",
        "\n",
        "\n",
        "def flatten(lst):\n",
        "    flat = []\n",
        "    for item in lst:\n",
        "        # print(type(item).__name__ == 'list')\n",
        "        if type(item).__name__ == 'list':\n",
        "            flat.extend(flatten(item))  # Recursively flatten\n",
        "        else:\n",
        "            flat.append(item)\n",
        "    return flat\n",
        "\n",
        "nestedList = [[1, [2, 3]], [4, 5], 6]\n",
        "print(flatten(nestedList))"
      ],
      "metadata": {
        "colab": {
          "base_uri": "https://localhost:8080/"
        },
        "id": "-XVXP5JbBouN",
        "outputId": "cb0f43a4-441f-4e01-bdc5-dbda957e228c"
      },
      "execution_count": null,
      "outputs": [
        {
          "output_type": "stream",
          "name": "stdout",
          "text": [
            "[1, 2, 3, 4, 5, 6]\n"
          ]
        }
      ]
    },
    {
      "cell_type": "markdown",
      "source": [
        "##Implement a basic Caesar cipher that shifts characters in a string by N positions.\n",
        "(eg, for N=3\n",
        "print(caesar_cipher(\"abc\"))          \n",
        "print(caesar_cipher(\"XYZ\"))          \n",
        "# Output: def\n",
        "# Output: ABC\n",
        "print(caesar_cipher(\"hello world\"))  # Output: khoor zruog\n",
        "print(caesar_cipher(\"Python 3.9!\"))  # Output: Sbwkrq 3.9!\n",
        ")"
      ],
      "metadata": {
        "id": "kD8kuY8dpeZf"
      }
    },
    {
      "cell_type": "code",
      "source": [
        "%%time\n",
        "\n",
        "def caesar_cipher(text, shift=3):\n",
        "\n",
        "    result = \"\"\n",
        "\n",
        "    for char in text:\n",
        "        # Check if character is a letter\n",
        "        if char.isalpha():\n",
        "            # Determine if uppercase or lowercase\n",
        "            if char.isupper():\n",
        "              print(ord(char , \" ....  \", char))\n",
        "\n",
        "              char_num = ord(char) - ord('A')\n",
        "\n",
        "              shifted_num = (char_num + shift) % 26\n",
        "\n",
        "              result += chr(shifted_num + ord('A'))\n",
        "            else:\n",
        "              print(ord(char)-ord('a') , \" ....  \", char)\n",
        "\n",
        "              char_num = ord(char) - ord('a')\n",
        "\n",
        "              shifted_num = (char_num + shift) % 26\n",
        "              result += chr(shifted_num + ord('a'))\n",
        "        else:\n",
        "            result += char\n",
        "\n",
        "    return result\n",
        "\n",
        "\n",
        "\n",
        "print(f'caesar_cipher(\"abc\") = \"{caesar_cipher(\"abc\")}\"')\n",
        "\n",
        "\n"
      ],
      "metadata": {
        "colab": {
          "base_uri": "https://localhost:8080/"
        },
        "id": "K_r4HSCxFu7c",
        "outputId": "58b7a5b8-5b76-4552-cf43-2eeed15f8272"
      },
      "execution_count": null,
      "outputs": [
        {
          "output_type": "stream",
          "name": "stdout",
          "text": [
            "0  ....   a\n",
            "1  ....   b\n",
            "2  ....   c\n",
            "caesar_cipher(\"abc\") = \"def\"\n",
            "CPU times: user 215 µs, sys: 0 ns, total: 215 µs\n",
            "Wall time: 187 µs\n"
          ]
        }
      ]
    },
    {
      "cell_type": "markdown",
      "source": [
        "## Given a 2D matrix, return its transpose without using external libraries."
      ],
      "metadata": {
        "id": "dKsqT94DpjkW"
      }
    },
    {
      "cell_type": "code",
      "source": [
        "matrix = [[1,2,3 ] , [4,5,6],[7,8,9] , [10,11,12]]\n",
        "transposedMatrix = []\n",
        "\n",
        "for rows in range((len(matrix[0]))):\n",
        "  transposedMatrix.append([0] * len(matrix))\n",
        "\n",
        "\n",
        "for row in range(len(matrix)):\n",
        "  for col in range(len(matrix[0])):\n",
        "    transposedMatrix[col][row] = matrix[row][col]\n",
        "\n",
        "transposedMatrix\n",
        "# print(transposedMatrix)"
      ],
      "metadata": {
        "colab": {
          "base_uri": "https://localhost:8080/"
        },
        "id": "dgyszBrFNZ9S",
        "outputId": "57474e86-d5e0-4629-d0fc-43110945f061"
      },
      "execution_count": null,
      "outputs": [
        {
          "output_type": "execute_result",
          "data": {
            "text/plain": [
              "[[1, 4, 7, 10], [2, 5, 8, 11], [3, 6, 9, 12]]"
            ]
          },
          "metadata": {},
          "execution_count": 5
        }
      ]
    },
    {
      "cell_type": "markdown",
      "source": [
        "Create a Contact class with name, phone, and email. Create a ContactBook class to store\n",
        "multiple contacts and search by name."
      ],
      "metadata": {
        "id": "BUVnmc9dpnTa"
      }
    },
    {
      "cell_type": "code",
      "source": [
        "class Contact:\n",
        "  def __init__(self , name;string , phone:int , email:email):\n",
        "    self.name = name\n",
        "    self.phone = phone\n",
        "    self.email = email\n",
        "\n",
        "c1 = Contact(\"bilal\" , 9090909 , \"bila@gmial.com\")\n",
        "c2 = Contact(\"bilal\" , 9090909 , \"bila@gmial.com\")\n",
        "c3 = Contact(\"bilal2\" , 9090909 , \"bila2@gmial.com\")\n",
        "c4 = Contact(\"bilal3\" , 9090909 , \"bila@3gmial.com\")\n",
        "# print(c1.name)\n",
        "\n",
        "\n",
        "class ContactBook:\n",
        "  def __init__(self):\n",
        "    self.contacts = []\n",
        "\n",
        "  def storeConstct(self ,contact):\n",
        "    self.contacts.append(contact)\n",
        "\n",
        "  def getContactByName(self , name):\n",
        "    matchedContacts = []\n",
        "    for contact in self.contacts:\n",
        "      if(contact.name == name):\n",
        "        matchedContacts.append(contact)\n",
        "    return matchedContacts\n",
        "\n",
        "\n",
        "cb1 = ContactBook()\n",
        "\n",
        "\n",
        "cb1.storeConstct(c1)\n",
        "cb1.storeConstct(c2)\n",
        "cb1.storeConstct(c3)\n",
        "cb1.storeConstct(c4)\n",
        "\n",
        "cb2 = ContactBook()\n",
        "cb2.storeConstct(c3)\n",
        "cb2.storeConstct(c4)\n",
        "\n",
        "matchedContacts = cb2.getContactByName(\"bilal\")\n",
        "if(len(matchedContacts) >0):\n",
        "  for contact in matchedContacts:\n",
        "    print(contact.name)\n",
        "else:\n",
        "  print('No result found...')\n"
      ],
      "metadata": {
        "colab": {
          "base_uri": "https://localhost:8080/"
        },
        "id": "1mR2OHvQQbkp",
        "outputId": "077876be-f07a-4436-c865-a6b145e381e8"
      },
      "execution_count": null,
      "outputs": [
        {
          "output_type": "stream",
          "name": "stdout",
          "text": [
            "No result found...\n"
          ]
        }
      ]
    },
    {
      "cell_type": "markdown",
      "source": [
        "#types"
      ],
      "metadata": {
        "id": "_kNB2koSCIsE"
      }
    },
    {
      "cell_type": "markdown",
      "source": [
        " Class Item (name, price), class Cart with methods to add_item, remove_item, total_cost, and\n",
        "list_items."
      ],
      "metadata": {
        "id": "3Zq0kcQRpyQ7"
      }
    },
    {
      "cell_type": "code",
      "source": [
        "from numbers import Number\n",
        "\n",
        "class Item:\n",
        "  def __init__(self , name , price):\n",
        "    self.name = name\n",
        "    self.price = price\n",
        "\n",
        "\n",
        "class Cart:\n",
        "  def __init__(self):\n",
        "    self.itemsList = []\n",
        "\n",
        "  def addItem(self , name:str , price:Number):\n",
        "    item = Item(name , price)\n",
        "    self.itemsList.append(item)\n",
        "\n",
        "  def getItems(self):\n",
        "    items = []\n",
        "    for item in self.itemsList:\n",
        "      name, price = item.name , item.price\n",
        "      items.append({name , price})\n",
        "    return items\n",
        "\n",
        "  def removeitem(self , name):\n",
        "    for item in self.itemsList:\n",
        "      if(item.name ==name):\n",
        "        self.itemsList.remove(item)\n",
        "        break\n",
        "\n",
        "  def totalCost(self):\n",
        "    totalCost = 0\n",
        "    for item in self.itemsList:\n",
        "      totalCost +=item.price\n",
        "    return totalCost\n",
        "\n",
        "\n",
        "c1 = Cart()\n",
        "c1.addItem(\"book1\" , 100)\n",
        "c1.addItem(\"book2\" , 100)\n",
        "c1.addItem(\"book3\" , 200)\n",
        "c1.addItem(\"book4\" , 500)\n",
        "\n",
        "c2 = Cart()\n",
        "c2.addItem(\"book3\" , 200)\n",
        "c2.addItem(\"book4\" , 500)\n",
        "\n",
        "print(c1.getItems())\n",
        "print(c1.totalCost())\n",
        "\n",
        "print(c2.getItems())\n",
        "print(c2.totalCost())"
      ],
      "metadata": {
        "colab": {
          "base_uri": "https://localhost:8080/"
        },
        "id": "InpBrNkUWPFW",
        "outputId": "02fe76c0-0ee8-4fc8-efaa-e074a19bdb3b"
      },
      "execution_count": 17,
      "outputs": [
        {
          "output_type": "stream",
          "name": "stdout",
          "text": [
            "[{'book1', 100}, {'book2', 100}, {200, 'book3'}, {500, 'book4'}]\n",
            "900\n",
            "[{200, 'book3'}, {500, 'book4'}]\n",
            "700\n"
          ]
        }
      ]
    },
    {
      "cell_type": "markdown",
      "source": [
        "add exit condition"
      ],
      "metadata": {
        "id": "5TMp3842DKqa"
      }
    },
    {
      "cell_type": "markdown",
      "source": [
        "##Question class with text and answer, Quiz class with list of questions and method to run the\n",
        "quiz (text-based)."
      ],
      "metadata": {
        "id": "1xbzkShEp2LD"
      }
    },
    {
      "cell_type": "code",
      "source": [
        "class Question:\n",
        "  def __init__(self , question , answer):\n",
        "    self.question = question\n",
        "    self.answer = answer\n",
        "\n",
        "class Quiz:\n",
        "  def __init__(self):\n",
        "    self.questions = []\n",
        "\n",
        "  def addQuestion(self , question ,answer):\n",
        "    q = Question(question , answer)\n",
        "    self.questions.append(q)\n",
        "\n",
        "  def takeQuiz(self):\n",
        "    score = 0\n",
        "    for question in self.questions:\n",
        "      print(question.question)\n",
        "      candidateAns = input(\"Give answer : \")\n",
        "      if(candidateAns == question.answer):\n",
        "        print(\"Correct...\")\n",
        "        score +=1\n",
        "      else:\n",
        "        print(\"Wrong Answer...\")\n",
        "\n",
        "    return score\n",
        "\n",
        "\n",
        "q1 = Quiz()\n",
        "q1.addQuestion(\"q1\" , \"a1\")\n",
        "q1.addQuestion(\"q2\" , \"a2\")\n",
        "q1.addQuestion(\"q3\" , \"a3\")\n",
        "q1.addQuestion(\"q4\" , \"a4\")\n",
        "\n",
        "print(\"Your score is :\",q1.takeQuiz())"
      ],
      "metadata": {
        "colab": {
          "base_uri": "https://localhost:8080/"
        },
        "id": "EVYtMxqtavp5",
        "outputId": "ad5d6b54-117d-4cbb-ed8a-ceb2f4da3904"
      },
      "execution_count": 1,
      "outputs": [
        {
          "output_type": "stream",
          "name": "stdout",
          "text": [
            "q1\n",
            "Give answer : q1\n",
            "Wrong Answer...\n",
            "q2\n",
            "Give answer : q2\n",
            "Wrong Answer...\n",
            "q3\n",
            "Give answer : q3\n",
            "Wrong Answer...\n",
            "q4\n",
            "Give answer : q4\n",
            "Wrong Answer...\n",
            "Your score is : 0\n"
          ]
        }
      ]
    },
    {
      "cell_type": "markdown",
      "source": [
        "## Class Task with title, status (done/pending). The class TodoList can add/remove tasks and\n",
        "list all pending tasks."
      ],
      "metadata": {
        "id": "_XaRd8f9qC8G"
      }
    },
    {
      "cell_type": "code",
      "source": [
        "class Task:\n",
        "  def __init__(self , task):\n",
        "    self.task = task\n",
        "    self.status = \"pending\"\n",
        "\n",
        "class Todo:\n",
        "  def __init__(self):\n",
        "    self.tasks = []\n",
        "\n",
        "  def addTask(self , task):\n",
        "    t = Task(task)\n",
        "    self.tasks.append(t)\n",
        "  def removeTask(self , taskToRemove):\n",
        "    for task in self.tasks:\n",
        "      if(task.task == taskToRemove):\n",
        "        self.tasks.remove(task)\n",
        "        break\n",
        "  def changeStatus(self , taskToChange):\n",
        "    for task in self.tasks:\n",
        "      if(task.task == taskToChange):\n",
        "        task.status = \"done\"\n",
        "        break\n",
        "\n",
        "  def allPendingTasks(self):\n",
        "    for task in self.tasks:\n",
        "      if(task.status == \"pending\"):\n",
        "        print(task.task)\n",
        "\n",
        "\n",
        "todo1 = Todo()\n",
        "\n",
        "todo1.addTask(\"task1\")\n",
        "todo1.addTask(\"task2\")\n",
        "todo1.addTask(\"task3\")\n",
        "todo1.addTask(\"task4\")\n",
        "\n",
        "todo1.changeStatus(\"task3\")\n",
        "todo1.removeTask(\"task1\")\n",
        "todo1.allPendingTasks()\n"
      ],
      "metadata": {
        "colab": {
          "base_uri": "https://localhost:8080/"
        },
        "id": "Z9AFpmMOdXMZ",
        "outputId": "99a1fb34-ce42-4b7f-977b-886769f12b8f"
      },
      "execution_count": null,
      "outputs": [
        {
          "output_type": "stream",
          "name": "stdout",
          "text": [
            "task2\n",
            "task4\n"
          ]
        }
      ]
    },
    {
      "cell_type": "markdown",
      "source": [
        "##Base class Shape with method area(), subclasses: Triangle, Circle, Rectangle. Demonstrate\n",
        "polymorphism via a list of shapes"
      ],
      "metadata": {
        "id": "pPH_fVETqMmt"
      }
    },
    {
      "cell_type": "code",
      "source": [
        "class Shape:\n",
        "  def area():\n",
        "    print(\"give parameters...\")\n",
        "\n",
        "class Circle(Shape):\n",
        "  def area(self ,radius):\n",
        "    print(\"areaof circle with radius \",radius, \" is \",3.14*radius**2)\n",
        "class Rectangle(Shape):\n",
        "  def area(self ,l , w):\n",
        "    print(\"areaof  rectangle with length \",l,\" and width \",w, \" is \",l*w)\n",
        "class Triangle(Shape):\n",
        "  def area(self ,h , b):\n",
        "    print(\"areaof triangle with height \",h,\" and base \",b, \" is \",(h*b)/2)\n",
        "\n",
        "r = Rectangle()\n",
        "r.area(3,5)\n",
        "t = Triangle()\n",
        "t.area(3,5)"
      ],
      "metadata": {
        "colab": {
          "base_uri": "https://localhost:8080/"
        },
        "id": "ucyDZn9Pfa07",
        "outputId": "926745a6-d3b7-4140-c9ca-5928d4394b51"
      },
      "execution_count": null,
      "outputs": [
        {
          "output_type": "stream",
          "name": "stdout",
          "text": [
            "areaof  rectangle with length  3  and width  5  is  15\n",
            "areaof triangle with height  3  and base  5  is  7.5\n"
          ]
        }
      ]
    },
    {
      "cell_type": "markdown",
      "source": [
        "##Write a function that reverses the words in a sentence, but not the characters."
      ],
      "metadata": {
        "id": "taHOISg7rNMj"
      }
    },
    {
      "cell_type": "code",
      "source": [
        "sentence = \"Ali is a college boy\"\n",
        "reverse = sentence.split()[::-1]\n",
        "print(\" \".join(reverse))"
      ],
      "metadata": {
        "colab": {
          "base_uri": "https://localhost:8080/"
        },
        "id": "C5hYtYV6h2Re",
        "outputId": "585c2f21-9cf8-4911-a835-8f05d47046c0"
      },
      "execution_count": null,
      "outputs": [
        {
          "output_type": "stream",
          "name": "stdout",
          "text": [
            "boy college a is Ali\n"
          ]
        }
      ]
    },
    {
      "cell_type": "markdown",
      "source": [
        "##Write a function that returns True if a number is prime, else False.  "
      ],
      "metadata": {
        "id": "o8ZqS9xhqPlC"
      }
    },
    {
      "cell_type": "code",
      "source": [
        "import math\n",
        "def isPrime(n):\n",
        "\n",
        "    if n < 2:\n",
        "        return False\n",
        "\n",
        "    if n == 2 or n == 3 or n == 5 or n==7:\n",
        "        return True\n",
        "\n",
        "    last_digit = n % 10\n",
        "    if last_digit in [0, 2, 4, 5, 6, 8]:\n",
        "        return False\n",
        "\n",
        "    for i in range(3, int(math.sqrt(n)) + 1, 2):\n",
        "        if n % i == 0:\n",
        "            return False\n",
        "\n",
        "    return True\n",
        "\n",
        "print(isPrime(89))"
      ],
      "metadata": {
        "colab": {
          "base_uri": "https://localhost:8080/"
        },
        "id": "jpANBdZPkVbQ",
        "outputId": "7c01218c-3a2c-49d2-a810-1816ec99d08c"
      },
      "execution_count": null,
      "outputs": [
        {
          "output_type": "stream",
          "name": "stdout",
          "text": [
            "True\n"
          ]
        }
      ]
    },
    {
      "cell_type": "markdown",
      "source": [
        "##rite a function that generates the first n numbers in the Fibonacci sequence."
      ],
      "metadata": {
        "id": "PTvuVUA8qTMT"
      }
    },
    {
      "cell_type": "code",
      "source": [
        "def fibonacci(n):\n",
        "    sequence = []\n",
        "    firstD = secondD = 1\n",
        "    sequence.append(firstD)\n",
        "    sequence.append(secondD)\n",
        "    currD = 3\n",
        "    while n >= currD:\n",
        "        a = firstD + secondD\n",
        "        sequence.append(a)\n",
        "        firstD, secondD = secondD, a\n",
        "        currD += 1\n",
        "    return sequence\n",
        "\n",
        "print(fibonacci(10))"
      ],
      "metadata": {
        "colab": {
          "base_uri": "https://localhost:8080/"
        },
        "id": "e725B0molt87",
        "outputId": "bd75dc62-2074-47e8-ec48-83c51723bdf0"
      },
      "execution_count": 10,
      "outputs": [
        {
          "output_type": "stream",
          "name": "stdout",
          "text": [
            "[1, 1, 2, 3, 5, 8, 13, 21, 34, 55]\n"
          ]
        }
      ]
    },
    {
      "cell_type": "markdown",
      "source": [
        "##Write a function that reverses the words in a sentence, but not the characters."
      ],
      "metadata": {
        "id": "oOAp44K-rUEZ"
      }
    },
    {
      "cell_type": "code",
      "source": [
        "arr = [2,4,6,3,98,7,6,77,99,88,46]\n",
        "arr.sort(reverse=True)\n",
        "print(arr[1])"
      ],
      "metadata": {
        "colab": {
          "base_uri": "https://localhost:8080/"
        },
        "id": "3FYGthnQn3Ik",
        "outputId": "bcefeb66-5d8e-42b7-910d-f83f474953d3"
      },
      "execution_count": null,
      "outputs": [
        {
          "output_type": "stream",
          "name": "stdout",
          "text": [
            "98\n"
          ]
        }
      ]
    },
    {
      "cell_type": "markdown",
      "source": [
        "##Given two lists, one with keys and one with values, convert them into a dictionary.\n",
        "(eg\n",
        "keys = [\"a\", \"b\", \"c\"]\n",
        "values = [1, 2, 3]\n",
        "# Output: {'a': 1, 'b': 2, 'c': 3})"
      ],
      "metadata": {
        "id": "pj5Rm5I9rVL0"
      }
    },
    {
      "cell_type": "code",
      "source": [
        "keys = [\"a\", \"b\", \"c\"]\n",
        "values = [1, 2, 3]\n",
        "dic = {}\n",
        "i =0\n",
        "for key in keys:\n",
        "  dic[key] = values[i]\n",
        "  i +=1\n",
        "print(dic)"
      ],
      "metadata": {
        "colab": {
          "base_uri": "https://localhost:8080/"
        },
        "id": "rtlwWy_lo_vK",
        "outputId": "c9ee2b1e-cbb9-4730-ba40-a6a60f01d8fc"
      },
      "execution_count": null,
      "outputs": [
        {
          "output_type": "stream",
          "name": "stdout",
          "text": [
            "{'a': 1, 'b': 2, 'c': 3}\n"
          ]
        }
      ]
    },
    {
      "cell_type": "markdown",
      "source": [
        "## Given a string, return a count of vowels and consonants in it."
      ],
      "metadata": {
        "id": "qv9Kpsm9rZXT"
      }
    },
    {
      "cell_type": "code",
      "source": [
        "str = \"aeiouttt\"\n",
        "vowels = 0\n",
        "cosonents = 0\n",
        "for char in str:\n",
        "  if(char in ['a' , 'e' , 'i' , 'o' , 'u']):\n",
        "    vowels +=1\n",
        "  else:\n",
        "    cosonents +=1\n",
        "print(vowels , cosonents)"
      ],
      "metadata": {
        "colab": {
          "base_uri": "https://localhost:8080/"
        },
        "id": "pVTNX-qGpTK4",
        "outputId": "d4d5b083-b4b5-4d0c-d90c-88fbaec3ef3f"
      },
      "execution_count": null,
      "outputs": [
        {
          "output_type": "stream",
          "name": "stdout",
          "text": [
            "5 3\n"
          ]
        }
      ]
    }
  ]
}