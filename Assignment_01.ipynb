{
  "cells": [
    {
      "cell_type": "code",
      "execution_count": null,
      "metadata": {
        "colab": {
          "base_uri": "https://localhost:8080/"
        },
        "id": "8JumwGxMZFaI",
        "outputId": "23a46147-3ac4-4343-c6c3-e82915974249"
      },
      "outputs": [
        {
          "name": "stdout",
          "output_type": "stream",
          "text": [
            "Not Palindrom\n"
          ]
        }
      ],
      "source": [
        "str1 = \"aa  dd\"\n",
        "str2=\"ddaa\"\n",
        "\n",
        "str1 = str1.strip().replace(\" \" , \"\").lower()\n",
        "str2 = str2.strip().replace(\" \" , \"\").lower()\n",
        "\n",
        "if(str1 == str2[::-1]):\n",
        "  print(\"Palindrom\")\n",
        "else:\n",
        "  print(\"Not Palindrom\")\n",
        "\n"
      ]
    },
    {
      "cell_type": "code",
      "execution_count": 27,
      "metadata": {
        "colab": {
          "base_uri": "https://localhost:8080/"
        },
        "id": "UYSSdo3D4g0P",
        "outputId": "731bea92-6570-4273-9f7d-5961b43a1e65"
      },
      "outputs": [
        {
          "name": "stdout",
          "output_type": "stream",
          "text": [
            "IsAnagram\n"
          ]
        }
      ],
      "source": [
        "str1 = \"rasp\"\n",
        "str2 = \"spar\"\n",
        "str1 = str1.strip().replace(\" \" , \"\").lower()\n",
        "str2 = str2.strip().replace(\" \" , \"\").lower()\n",
        "str1Dic = {}\n",
        "str2Dic = {}\n",
        "for i in str1:\n",
        "  if(i in str1Dic):\n",
        "    str1Dic[i] += 1\n",
        "  else:\n",
        "    str1Dic[i] = 1\n",
        "for i in str2:\n",
        "  if(i in str2Dic):\n",
        "    str2Dic[i] += 1\n",
        "  else:\n",
        "    str2Dic[i] = 1\n",
        "\n",
        "\n",
        "if(str1Dic != str2Dic):\n",
        "    print(\"Not anagram..\")\n",
        "else:\n",
        "  print(\"IsAnagram\")\n",
        "\n",
        "\n"
      ]
    },
    {
      "cell_type": "code",
      "execution_count": 36,
      "metadata": {
        "colab": {
          "base_uri": "https://localhost:8080/"
        },
        "id": "ceI3iIhn8s5_",
        "outputId": "75bf0c68-1952-4bcb-c59b-4e860c7f63db"
      },
      "outputs": [
        {
          "name": "stdout",
          "output_type": "stream",
          "text": [
            "{'s': 1, 'p': 3, 'a': 1, 'r': 1}\n"
          ]
        }
      ],
      "source": [
        "str1 = \"spappr\"\n",
        "str1 = str1.strip().replace(\" \" , \"\").lower()\n",
        "\n",
        "str1Dic = {}\n",
        "for i in str1:\n",
        "  if(i in str1Dic):\n",
        "    str1Dic[i] += 1\n",
        "  else:\n",
        "    str1Dic[i] = 1\n",
        "\n",
        "print((str1Dic))"
      ]
    },
    {
      "cell_type": "code",
      "execution_count": 41,
      "metadata": {
        "colab": {
          "base_uri": "https://localhost:8080/"
        },
        "id": "G15SkBy79Qpg",
        "outputId": "fb925c03-2ed3-47ec-89c3-ee9bcb33f2ea"
      },
      "outputs": [
        {
          "name": "stdout",
          "output_type": "stream",
          "text": [
            "['bat', 'cat', 'dog', 'apple', 'banana']\n"
          ]
        }
      ],
      "source": [
        "def sort_key(word):\n",
        "    return (len(word), word)\n",
        "\n",
        "words = [\"cat\", \"bat\", \"apple\", \"dog\", \"banana\"]\n",
        "words.sort(key=sort_key)\n",
        "print(words)"
      ]
    },
    {
      "cell_type": "code",
      "execution_count": 48,
      "metadata": {
        "colab": {
          "base_uri": "https://localhost:8080/"
        },
        "id": "oT3XlL2-_aBw",
        "outputId": "dfa16be9-1893-43f7-9175-6d77f9caa677"
      },
      "outputs": [
        {
          "name": "stdout",
          "output_type": "stream",
          "text": [
            "[5, 7]\n"
          ]
        }
      ],
      "source": [
        "numbers = [1,2 ,3, 4,5 ,3 ,4,7 , 1 ,2 ,2,2]\n",
        "\n",
        "dic= {}\n",
        "sol = []\n",
        "\n",
        "for num in numbers:\n",
        "  if(num in dic):\n",
        "    dic[num] +=1\n",
        "  else:\n",
        "    dic[num] = 1\n",
        "for key in dic:\n",
        "  if(dic[key] == 1):\n",
        "    sol.append(key)\n",
        "\n",
        "print(sol)"
      ]
    },
    {
      "cell_type": "code",
      "execution_count": 66,
      "metadata": {
        "colab": {
          "base_uri": "https://localhost:8080/"
        },
        "id": "-XVXP5JbBouN",
        "outputId": "cb0f43a4-441f-4e01-bdc5-dbda957e228c"
      },
      "outputs": [
        {
          "name": "stdout",
          "output_type": "stream",
          "text": [
            "[1, 2, 3, 4, 5, 6]\n"
          ]
        }
      ],
      "source": [
        "# nestedList = [[1, 2], [3, 4], 5]\n",
        "# sol =[]\n",
        "# for i in nestedList:\n",
        "\n",
        "#   # if isinstance(i,list):\n",
        "#   if isinstance(i, list):\n",
        "#     for j in i:\n",
        "#       sol.append(j)\n",
        "#   else:\n",
        "#     sol.append(i)\n",
        "# print(sol)\n",
        "\n",
        "\n",
        "\n",
        "def flatten(lst):\n",
        "    flat = []\n",
        "    for item in lst:\n",
        "        # print(type(item).__name__ == 'list')\n",
        "        if type(item).__name__ == 'list':\n",
        "            flat.extend(flatten(item))  # Recursively flatten\n",
        "        else:\n",
        "            flat.append(item)\n",
        "    return flat\n",
        "\n",
        "nestedList = [[1, [2, 3]], [4, 5], 6]\n",
        "print(flatten(nestedList))"
      ]
    },
    {
      "cell_type": "code",
      "execution_count": 77,
      "metadata": {
        "colab": {
          "base_uri": "https://localhost:8080/"
        },
        "id": "K_r4HSCxFu7c",
        "outputId": "176960e9-a383-4981-de25-eed2a9d192db"
      },
      "outputs": [
        {
          "name": "stdout",
          "output_type": "stream",
          "text": [
            "0  ....   a\n",
            "1  ....   b\n",
            "2  ....   c\n",
            "caesar_cipher(\"abc\") = \"def\"\n"
          ]
        }
      ],
      "source": [
        "def caesar_cipher(text, shift=3):\n",
        "\n",
        "    result = \"\"\n",
        "\n",
        "    for char in text:\n",
        "        # Check if character is a letter\n",
        "        if char.isalpha():\n",
        "            # Determine if uppercase or lowercase\n",
        "            if char.isupper():\n",
        "              print(ord(char , \" ....  \", char))\n",
        "\n",
        "              char_num = ord(char) - ord('A')\n",
        "\n",
        "              shifted_num = (char_num + shift) % 26\n",
        "\n",
        "              result += chr(shifted_num + ord('A'))\n",
        "            else:\n",
        "              print(ord(char)-ord('a') , \" ....  \", char)\n",
        "\n",
        "              char_num = ord(char) - ord('a')\n",
        "\n",
        "              shifted_num = (char_num + shift) % 26\n",
        "              result += chr(shifted_num + ord('a'))\n",
        "        else:\n",
        "            result += char\n",
        "\n",
        "    return result\n",
        "\n",
        "\n",
        "\n",
        "print(f'caesar_cipher(\"abc\") = \"{caesar_cipher(\"abc\")}\"')\n",
        "\n",
        "\n"
      ]
    },
    {
      "cell_type": "code",
      "execution_count": 83,
      "metadata": {
        "colab": {
          "base_uri": "https://localhost:8080/"
        },
        "id": "dgyszBrFNZ9S",
        "outputId": "36a6df9b-eb02-41af-c817-925ad1ad9b87"
      },
      "outputs": [
        {
          "name": "stdout",
          "output_type": "stream",
          "text": [
            "[[1, 4, 7], [2, 5, 8], [3, 6, 9]]\n"
          ]
        }
      ],
      "source": [
        "matrix = [[1,2,3] , [4,5,6],[7,8,9]]\n",
        "transposedMatrix = []\n",
        "\n",
        "for rows in range((len(matrix[0]))):\n",
        "  transposedMatrix.append([0] * len(matrix))\n",
        "\n",
        "\n",
        "for row in range(len(matrix)):\n",
        "  for col in range(len(matrix[0])):\n",
        "    transposedMatrix[col][row] = matrix[row][col]\n",
        "\n",
        "print(transposedMatrix)"
      ]
    },
    {
      "cell_type": "code",
      "execution_count": 95,
      "metadata": {
        "colab": {
          "base_uri": "https://localhost:8080/"
        },
        "id": "1mR2OHvQQbkp",
        "outputId": "077876be-f07a-4436-c865-a6b145e381e8"
      },
      "outputs": [
        {
          "name": "stdout",
          "output_type": "stream",
          "text": [
            "No result found...\n"
          ]
        }
      ],
      "source": [
        "class Contact:\n",
        "  def __init__(self , name , phone , email):\n",
        "    self.name = name\n",
        "    self.phone = phone\n",
        "    self.email = email\n",
        "\n",
        "c1 = Contact(\"bilal\" , 9090909 , \"bila@gmial.com\")\n",
        "c2 = Contact(\"bilal\" , 9090909 , \"bila@gmial.com\")\n",
        "c3 = Contact(\"bilal2\" , 9090909 , \"bila2@gmial.com\")\n",
        "c4 = Contact(\"bilal3\" , 9090909 , \"bila@3gmial.com\")\n",
        "# print(c1.name)\n",
        "\n",
        "\n",
        "class ContactBook:\n",
        "  def __init__(self):\n",
        "    self.contacts = []\n",
        "\n",
        "  def storeConstct(self ,contact):\n",
        "    self.contacts.append(contact)\n",
        "\n",
        "  def getContactByName(self , name):\n",
        "    matchedContacts = []\n",
        "    for contact in self.contacts:\n",
        "      if(contact.name == name):\n",
        "        matchedContacts.append(contact)\n",
        "    return matchedContacts\n",
        "\n",
        "\n",
        "cb1 = ContactBook()\n",
        "\n",
        "\n",
        "cb1.storeConstct(c1)\n",
        "cb1.storeConstct(c2)\n",
        "cb1.storeConstct(c3)\n",
        "cb1.storeConstct(c4)\n",
        "\n",
        "cb2 = ContactBook()\n",
        "cb2.storeConstct(c3)\n",
        "cb2.storeConstct(c4)\n",
        "\n",
        "matchedContacts = cb2.getContactByName(\"bilal\")\n",
        "if(len(matchedContacts) >0):\n",
        "  for contact in matchedContacts:\n",
        "    print(contact.name)\n",
        "else:\n",
        "  print('No result found...')\n"
      ]
    },
    {
      "cell_type": "code",
      "execution_count": 105,
      "metadata": {
        "colab": {
          "base_uri": "https://localhost:8080/"
        },
        "id": "InpBrNkUWPFW",
        "outputId": "8c92e894-ed6c-47c2-dd45-088aca26e3a7"
      },
      "outputs": [
        {
          "name": "stdout",
          "output_type": "stream",
          "text": [
            "[{100, 'book1'}, {'book2', 100}, {'book3', 200}, {500, 'book4'}]\n",
            "900\n",
            "[{'book3', 200}, {500, 'book4'}]\n",
            "700\n"
          ]
        }
      ],
      "source": [
        "class Item:\n",
        "  def __init__(self , name , price):\n",
        "    self.name = name\n",
        "    self.price = price\n",
        "\n",
        "\n",
        "class Cart:\n",
        "  def __init__(self):\n",
        "    self.itemsList = []\n",
        "\n",
        "  def addItem(self , name , price):\n",
        "    item = Item(name , price)\n",
        "    self.itemsList.append(item)\n",
        "\n",
        "  def getItems(self):\n",
        "    items = []\n",
        "    for item in self.itemsList:\n",
        "      name, price = item.name , item.price\n",
        "      items.append({name , price})\n",
        "    return items\n",
        "\n",
        "  def removeitem(self , name):\n",
        "    for item in self.itemsList:\n",
        "      if(item.name ==name):\n",
        "        self.itemsList.remove(item)\n",
        "        break\n",
        "\n",
        "  def totalCost(self):\n",
        "    totalCost = 0\n",
        "    for item in self.itemsList:\n",
        "      totalCost +=item.price\n",
        "    return totalCost\n",
        "\n",
        "\n",
        "c1 = Cart()\n",
        "c1.addItem(\"book1\" , 100)\n",
        "c1.addItem(\"book2\" , 100)\n",
        "c1.addItem(\"book3\" , 200)\n",
        "c1.addItem(\"book4\" , 500)\n",
        "\n",
        "c2 = Cart()\n",
        "c2.addItem(\"book3\" , 200)\n",
        "c2.addItem(\"book4\" , 500)\n",
        "\n",
        "print(c1.getItems())\n",
        "print(c1.totalCost())\n",
        "\n",
        "print(c2.getItems())\n",
        "print(c2.totalCost())"
      ]
    },
    {
      "cell_type": "code",
      "execution_count": 106,
      "metadata": {
        "colab": {
          "base_uri": "https://localhost:8080/"
        },
        "id": "EVYtMxqtavp5",
        "outputId": "dd023aed-1e68-4ebc-ac05-3caa58d5f916"
      },
      "outputs": [
        {
          "name": "stdout",
          "output_type": "stream",
          "text": [
            "q1\n",
            "Give answer : a1\n",
            "Correct...\n",
            "q2\n",
            "Give answer : a3\n",
            "Wrong Answer...\n",
            "q3\n",
            "Give answer : a2\n",
            "Wrong Answer...\n",
            "q4\n",
            "Give answer : a4\n",
            "Correct...\n",
            "2\n"
          ]
        }
      ],
      "source": [
        "class Question:\n",
        "  def __init__(self , question , answer):\n",
        "    self.question = question\n",
        "    self.answer = answer\n",
        "\n",
        "class Quiz:\n",
        "  def __init__(self):\n",
        "    self.questions = []\n",
        "\n",
        "  def addQuestion(self , question ,answer):\n",
        "    q = Question(question , answer)\n",
        "    self.questions.append(q)\n",
        "\n",
        "  def takeQuiz(self):\n",
        "    score = 0\n",
        "    for question in self.questions:\n",
        "      print(question.question)\n",
        "      candidateAns = input(\"Give answer : \")\n",
        "      if(candidateAns == question.answer):\n",
        "        print(\"Correct...\")\n",
        "        score +=1\n",
        "      else:\n",
        "        print(\"Wrong Answer...\")\n",
        "\n",
        "    return score\n",
        "\n",
        "\n",
        "q1 = Quiz()\n",
        "q1.addQuestion(\"q1\" , \"a1\")\n",
        "q1.addQuestion(\"q2\" , \"a2\")\n",
        "q1.addQuestion(\"q3\" , \"a3\")\n",
        "q1.addQuestion(\"q4\" , \"a4\")\n",
        "\n",
        "print(\"Your score is :\",q1.takeQuiz())"
      ]
    },
    {
      "cell_type": "code",
      "execution_count": 108,
      "metadata": {
        "colab": {
          "base_uri": "https://localhost:8080/"
        },
        "id": "Z9AFpmMOdXMZ",
        "outputId": "99a1fb34-ce42-4b7f-977b-886769f12b8f"
      },
      "outputs": [
        {
          "name": "stdout",
          "output_type": "stream",
          "text": [
            "task2\n",
            "task4\n"
          ]
        }
      ],
      "source": [
        "class Task:\n",
        "  def __init__(self , task):\n",
        "    self.task = task\n",
        "    self.status = \"pending\"\n",
        "\n",
        "class Todo:\n",
        "  def __init__(self):\n",
        "    self.tasks = []\n",
        "\n",
        "  def addTask(self , task):\n",
        "    t = Task(task)\n",
        "    self.tasks.append(t)\n",
        "  def removeTask(self , taskToRemove):\n",
        "    for task in self.tasks:\n",
        "      if(task.task == taskToRemove):\n",
        "        self.tasks.remove(task)\n",
        "        break\n",
        "  def changeStatus(self , taskToChange):\n",
        "    for task in self.tasks:\n",
        "      if(task.task == taskToChange):\n",
        "        task.status = \"done\"\n",
        "        break\n",
        "\n",
        "  def allPendingTasks(self):\n",
        "    for task in self.tasks:\n",
        "      if(task.status == \"pending\"):\n",
        "        print(task.task)\n",
        "\n",
        "\n",
        "todo1 = Todo()\n",
        "\n",
        "todo1.addTask(\"task1\")\n",
        "todo1.addTask(\"task2\")\n",
        "todo1.addTask(\"task3\")\n",
        "todo1.addTask(\"task4\")\n",
        "\n",
        "todo1.changeStatus(\"task3\")\n",
        "todo1.removeTask(\"task1\")\n",
        "todo1.allPendingTasks()\n"
      ]
    },
    {
      "cell_type": "code",
      "execution_count": 112,
      "metadata": {
        "colab": {
          "base_uri": "https://localhost:8080/"
        },
        "id": "ucyDZn9Pfa07",
        "outputId": "926745a6-d3b7-4140-c9ca-5928d4394b51"
      },
      "outputs": [
        {
          "name": "stdout",
          "output_type": "stream",
          "text": [
            "areaof  rectangle with length  3  and width  5  is  15\n",
            "areaof triangle with height  3  and base  5  is  7.5\n"
          ]
        }
      ],
      "source": [
        "class Shape:\n",
        "  def area():\n",
        "    print(\"give parameters...\")\n",
        "\n",
        "class Circle(Shape):\n",
        "  def area(self ,radius):\n",
        "    print(\"areaof circle with radius \",radius, \" is \",3.14*radius**2)\n",
        "class Rectangle(Shape):\n",
        "  def area(self ,l , w):\n",
        "    print(\"areaof  rectangle with length \",l,\" and width \",w, \" is \",l*w)\n",
        "class Triangle(Shape):\n",
        "  def area(self ,h , b):\n",
        "    print(\"areaof triangle with height \",h,\" and base \",b, \" is \",(h*b)/2)\n",
        "\n",
        "r = Rectangle()\n",
        "r.area(3,5)\n",
        "t = Triangle()\n",
        "t.area(3,5)"
      ]
    },
    {
      "cell_type": "code",
      "execution_count": 120,
      "metadata": {
        "colab": {
          "base_uri": "https://localhost:8080/"
        },
        "id": "C5hYtYV6h2Re",
        "outputId": "585c2f21-9cf8-4911-a835-8f05d47046c0"
      },
      "outputs": [
        {
          "name": "stdout",
          "output_type": "stream",
          "text": [
            "boy college a is Ali\n"
          ]
        }
      ],
      "source": [
        "sentence = \"Ali is a college boy\"\n",
        "reverse = sentence.split()[::-1]\n",
        "print(\" \".join(reverse))"
      ]
    },
    {
      "cell_type": "code",
      "execution_count": 125,
      "metadata": {
        "colab": {
          "base_uri": "https://localhost:8080/"
        },
        "id": "jpANBdZPkVbQ",
        "outputId": "7c01218c-3a2c-49d2-a810-1816ec99d08c"
      },
      "outputs": [
        {
          "name": "stdout",
          "output_type": "stream",
          "text": [
            "True\n"
          ]
        }
      ],
      "source": [
        "def isPrime(n):\n",
        "\n",
        "    if n < 2:\n",
        "        return False\n",
        "\n",
        "    if n == 2 or n == 3 or n == 5 or n==7:\n",
        "        return True\n",
        "\n",
        "    last_digit = n % 10\n",
        "    if last_digit in [0, 2, 4, 5, 6, 8]:\n",
        "        return False\n",
        "\n",
        "    import math\n",
        "    for i in range(3, int(math.sqrt(n)) + 1, 2):\n",
        "        if n % i == 0:\n",
        "            return False\n",
        "\n",
        "    return True\n",
        "\n",
        "print(isPrime(89))"
      ]
    },
    {
      "cell_type": "code",
      "execution_count": 131,
      "metadata": {
        "colab": {
          "base_uri": "https://localhost:8080/"
        },
        "id": "e725B0molt87",
        "outputId": "9280305a-2242-4649-c379-0f456fb8d3c5"
      },
      "outputs": [
        {
          "name": "stdout",
          "output_type": "stream",
          "text": [
            "1\n",
            "1\n",
            "2\n",
            "3\n",
            "5\n",
            "8\n",
            "13\n",
            "21\n",
            "34\n",
            "None\n"
          ]
        }
      ],
      "source": [
        "def fibonacci(n):\n",
        "  # if(n<3):\n",
        "  #   return 1\n",
        "  # else:\n",
        "  #   return fibonacci(n-1) + fibonacci(n-2)\n",
        "  firstD = secondD = 1\n",
        "  print(firstD)\n",
        "  print(secondD)\n",
        "  currD = 3\n",
        "  while(n > currD ):\n",
        "    a = firstD + secondD\n",
        "    print(a)\n",
        "    firstD=secondD\n",
        "    secondD=a\n",
        "    currD +=1\n",
        "\n",
        "print(fibonacci(10))"
      ]
    },
    {
      "cell_type": "code",
      "execution_count": 140,
      "metadata": {
        "colab": {
          "base_uri": "https://localhost:8080/"
        },
        "id": "3FYGthnQn3Ik",
        "outputId": "db468d5d-53dd-4d6e-af07-4da7d20883f9"
      },
      "outputs": [
        {
          "name": "stdout",
          "output_type": "stream",
          "text": [
            "88\n"
          ]
        }
      ],
      "source": [
        "arr = [2,4,6,3,88,7,6,77,99,88,46]\n",
        "arr.sort(reverse=True)\n",
        "print(arr[1])"
      ]
    },
    {
      "cell_type": "code",
      "execution_count": 141,
      "metadata": {
        "colab": {
          "base_uri": "https://localhost:8080/"
        },
        "id": "rtlwWy_lo_vK",
        "outputId": "c9ee2b1e-cbb9-4730-ba40-a6a60f01d8fc"
      },
      "outputs": [
        {
          "name": "stdout",
          "output_type": "stream",
          "text": [
            "{'a': 1, 'b': 2, 'c': 3}\n"
          ]
        }
      ],
      "source": [
        "keys = [\"a\", \"b\", \"c\"]\n",
        "values = [1, 2, 3]\n",
        "dic = {}\n",
        "i =0\n",
        "for key in keys:\n",
        "  dic[key] = values[i]\n",
        "  i +=1\n",
        "print(dic)"
      ]
    },
    {
      "cell_type": "code",
      "execution_count": null,
      "metadata": {
        "colab": {
          "base_uri": "https://localhost:8080/"
        },
        "id": "pVTNX-qGpTK4",
        "outputId": "d4d5b083-b4b5-4d0c-d90c-88fbaec3ef3f"
      },
      "outputs": [
        {
          "name": "stdout",
          "output_type": "stream",
          "text": [
            "5 3\n"
          ]
        }
      ],
      "source": [
        "str = \"aeiouttt\"\n",
        "vowels = 0\n",
        "cosonents = 0\n",
        "for char in str:\n",
        "  if(char in ['a' , 'e' , 'i' , 'o' , 'u']):\n",
        "    vowels +=1\n",
        "  else:\n",
        "    cosonents +=1\n",
        "print(vowels , cosonents)\n",
        "print(\"hlo\")"
      ]
    }
  ],
  "metadata": {
    "colab": {
      "provenance": [],
      "toc_visible": true
    },
    "kernelspec": {
      "display_name": "Python 3",
      "name": "python3"
    },
    "language_info": {
      "name": "python"
    }
  },
  "nbformat": 4,
  "nbformat_minor": 0
}
