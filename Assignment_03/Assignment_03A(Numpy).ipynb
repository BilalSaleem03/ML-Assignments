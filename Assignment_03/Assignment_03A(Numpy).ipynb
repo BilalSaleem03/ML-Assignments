{
  "nbformat": 4,
  "nbformat_minor": 0,
  "metadata": {
    "colab": {
      "provenance": []
    },
    "kernelspec": {
      "name": "python3",
      "display_name": "Python 3"
    },
    "language_info": {
      "name": "python"
    }
  },
  "cells": [
    {
      "cell_type": "code",
      "source": [
        "import numpy as np"
      ],
      "metadata": {
        "id": "648HZp58JAII"
      },
      "execution_count": 1,
      "outputs": []
    },
    {
      "cell_type": "markdown",
      "source": [
        "# Array Creation and Properties"
      ],
      "metadata": {
        "id": "zMKZtpiLI3XI"
      }
    },
    {
      "cell_type": "markdown",
      "source": [
        "###Create 1D, 2D, and 3D arrays using np.array, np.zeros, np.ones, and np.full."
      ],
      "metadata": {
        "id": "Joe1YpTNI5r9"
      }
    },
    {
      "cell_type": "code",
      "execution_count": 4,
      "metadata": {
        "colab": {
          "base_uri": "https://localhost:8080/"
        },
        "id": "C01cJAS1IoY7",
        "outputId": "e040c31b-31d4-4e98-9f46-2fe161c6ae8b"
      },
      "outputs": [
        {
          "output_type": "execute_result",
          "data": {
            "text/plain": [
              "array([[[ 1,  2,  3],\n",
              "        [ 4,  5,  6]],\n",
              "\n",
              "       [[ 7,  8,  9],\n",
              "        [10, 11, 12]]])"
            ]
          },
          "metadata": {},
          "execution_count": 4
        }
      ],
      "source": [
        "a1 = np.array([1,2,3])\n",
        "a2 = np.array([[1,2,3],[4,5,6]])\n",
        "a3 = np.array([[[1 ,2, 3],[4 , 5 , 6]] , [[7 ,8,9],[10,11,12]]])\n",
        "a3"
      ]
    },
    {
      "cell_type": "code",
      "source": [
        "a4 = np.zeros(5)\n",
        "a5 = np.zeros((3,4))\n",
        "a5"
      ],
      "metadata": {
        "colab": {
          "base_uri": "https://localhost:8080/"
        },
        "id": "lvxy7LruJ0Fa",
        "outputId": "100171cf-9f5b-4448-fd6d-f7bd46792c44"
      },
      "execution_count": 6,
      "outputs": [
        {
          "output_type": "execute_result",
          "data": {
            "text/plain": [
              "array([[0., 0., 0., 0.],\n",
              "       [0., 0., 0., 0.],\n",
              "       [0., 0., 0., 0.]])"
            ]
          },
          "metadata": {},
          "execution_count": 6
        }
      ]
    },
    {
      "cell_type": "code",
      "source": [
        "a5 = np.ones((3,4))\n",
        "a5"
      ],
      "metadata": {
        "colab": {
          "base_uri": "https://localhost:8080/"
        },
        "id": "rypwfb0XKBO1",
        "outputId": "575a7587-7cc3-4324-9942-7867e817a775"
      },
      "execution_count": 7,
      "outputs": [
        {
          "output_type": "execute_result",
          "data": {
            "text/plain": [
              "array([[1., 1., 1., 1.],\n",
              "       [1., 1., 1., 1.],\n",
              "       [1., 1., 1., 1.]])"
            ]
          },
          "metadata": {},
          "execution_count": 7
        }
      ]
    },
    {
      "cell_type": "code",
      "source": [
        "a7 = np.full((4,5) , 3)\n",
        "a7"
      ],
      "metadata": {
        "colab": {
          "base_uri": "https://localhost:8080/"
        },
        "id": "dtas7uoZKFOE",
        "outputId": "8c6f9847-f23f-4525-b64f-dbd2296acad3"
      },
      "execution_count": 9,
      "outputs": [
        {
          "output_type": "execute_result",
          "data": {
            "text/plain": [
              "array([[3, 3, 3, 3, 3],\n",
              "       [3, 3, 3, 3, 3],\n",
              "       [3, 3, 3, 3, 3],\n",
              "       [3, 3, 3, 3, 3]])"
            ]
          },
          "metadata": {},
          "execution_count": 9
        }
      ]
    },
    {
      "cell_type": "markdown",
      "source": [
        "###Use np.arange() and np.linspace() to create arrays with evenly spaced values."
      ],
      "metadata": {
        "id": "uYLpJD_mKZVQ"
      }
    },
    {
      "cell_type": "code",
      "source": [
        "a8 = np.arange(2,12)\n",
        "a8\n",
        "\n",
        "a9 = np.linspace(-10 , 10 , 5)\n",
        "a9"
      ],
      "metadata": {
        "colab": {
          "base_uri": "https://localhost:8080/"
        },
        "id": "K8LKCFjNKab6",
        "outputId": "8ac7db70-e543-45e0-d258-0265a454a859"
      },
      "execution_count": 12,
      "outputs": [
        {
          "output_type": "execute_result",
          "data": {
            "text/plain": [
              "array([-10.,  -5.,   0.,   5.,  10.])"
            ]
          },
          "metadata": {},
          "execution_count": 12
        }
      ]
    },
    {
      "cell_type": "markdown",
      "source": [
        "###Check array properties: .ndim, .shape, .size, .dtype."
      ],
      "metadata": {
        "id": "tpnP2MogKwgI"
      }
    },
    {
      "cell_type": "code",
      "source": [
        "np.ndim(a3)"
      ],
      "metadata": {
        "colab": {
          "base_uri": "https://localhost:8080/"
        },
        "id": "w44kuAQoKxxj",
        "outputId": "cfefdeb1-b720-49b2-9c1e-9e4cb8ce8bc9"
      },
      "execution_count": 13,
      "outputs": [
        {
          "output_type": "execute_result",
          "data": {
            "text/plain": [
              "3"
            ]
          },
          "metadata": {},
          "execution_count": 13
        }
      ]
    },
    {
      "cell_type": "code",
      "source": [
        "np.shape(a3)"
      ],
      "metadata": {
        "colab": {
          "base_uri": "https://localhost:8080/"
        },
        "id": "-Ljm6FrgK5Lo",
        "outputId": "6d17c074-e936-41cf-b894-435afc50c2ea"
      },
      "execution_count": 14,
      "outputs": [
        {
          "output_type": "execute_result",
          "data": {
            "text/plain": [
              "(2, 2, 3)"
            ]
          },
          "metadata": {},
          "execution_count": 14
        }
      ]
    },
    {
      "cell_type": "code",
      "source": [
        "np.size(a3)"
      ],
      "metadata": {
        "colab": {
          "base_uri": "https://localhost:8080/"
        },
        "id": "s4k7EFWyK85T",
        "outputId": "224eaefd-bc5c-4cc8-ea29-1807407c3338"
      },
      "execution_count": 15,
      "outputs": [
        {
          "output_type": "execute_result",
          "data": {
            "text/plain": [
              "12"
            ]
          },
          "metadata": {},
          "execution_count": 15
        }
      ]
    },
    {
      "cell_type": "code",
      "source": [
        "a3.dtype"
      ],
      "metadata": {
        "colab": {
          "base_uri": "https://localhost:8080/"
        },
        "id": "-OtbhqLHLAg9",
        "outputId": "32c7cf17-085d-4b89-83b9-4e9619068c17"
      },
      "execution_count": 17,
      "outputs": [
        {
          "output_type": "execute_result",
          "data": {
            "text/plain": [
              "dtype('int64')"
            ]
          },
          "metadata": {},
          "execution_count": 17
        }
      ]
    },
    {
      "cell_type": "markdown",
      "source": [
        "#Reshape and Flatten"
      ],
      "metadata": {
        "id": "tV_aK9w4LJYY"
      }
    },
    {
      "cell_type": "markdown",
      "source": [
        "###Reshape arrays using .reshape() and .flatten()."
      ],
      "metadata": {
        "id": "L-rSnXoaLKa9"
      }
    },
    {
      "cell_type": "code",
      "source": [
        "print(a8)\n",
        "\n",
        "a8.reshape((2,5))"
      ],
      "metadata": {
        "colab": {
          "base_uri": "https://localhost:8080/"
        },
        "id": "qPBfCOpOLNpN",
        "outputId": "dd922e26-dc9b-4964-f70c-eb68eab6b57e"
      },
      "execution_count": 24,
      "outputs": [
        {
          "output_type": "stream",
          "name": "stdout",
          "text": [
            "[ 2  3  4  5  6  7  8  9 10 11]\n"
          ]
        },
        {
          "output_type": "execute_result",
          "data": {
            "text/plain": [
              "array([[ 2,  3,  4,  5,  6],\n",
              "       [ 7,  8,  9, 10, 11]])"
            ]
          },
          "metadata": {},
          "execution_count": 24
        }
      ]
    },
    {
      "cell_type": "code",
      "source": [
        "print(a7)\n",
        "\n",
        "a7.flatten()"
      ],
      "metadata": {
        "colab": {
          "base_uri": "https://localhost:8080/"
        },
        "id": "AO2xL2MdLj9S",
        "outputId": "6e0d64cf-bbe1-4b3a-d989-dc64693606f2"
      },
      "execution_count": 28,
      "outputs": [
        {
          "output_type": "stream",
          "name": "stdout",
          "text": [
            "[[3 3 3 3 3]\n",
            " [3 3 3 3 3]\n",
            " [3 3 3 3 3]\n",
            " [3 3 3 3 3]]\n"
          ]
        },
        {
          "output_type": "execute_result",
          "data": {
            "text/plain": [
              "array([3, 3, 3, 3, 3, 3, 3, 3, 3, 3, 3, 3, 3, 3, 3, 3, 3, 3, 3, 3])"
            ]
          },
          "metadata": {},
          "execution_count": 28
        }
      ]
    },
    {
      "cell_type": "markdown",
      "source": [
        "###Practice reshaping arrays between 1D, 2D, and 3D."
      ],
      "metadata": {
        "id": "dMQCu6LXL8fv"
      }
    },
    {
      "cell_type": "code",
      "source": [
        "print(a2)\n",
        "\n",
        "a2.reshape(2, 1, 3)"
      ],
      "metadata": {
        "colab": {
          "base_uri": "https://localhost:8080/"
        },
        "id": "yytfCIIaL_GP",
        "outputId": "4537279f-f092-40b0-c387-c8d59b2170d3"
      },
      "execution_count": 30,
      "outputs": [
        {
          "output_type": "stream",
          "name": "stdout",
          "text": [
            "[[1 2 3]\n",
            " [4 5 6]]\n"
          ]
        },
        {
          "output_type": "execute_result",
          "data": {
            "text/plain": [
              "array([[[1, 2, 3]],\n",
              "\n",
              "       [[4, 5, 6]]])"
            ]
          },
          "metadata": {},
          "execution_count": 30
        }
      ]
    },
    {
      "cell_type": "markdown",
      "source": [
        "#Random Numbers"
      ],
      "metadata": {
        "id": "4zX3xeemMft1"
      }
    },
    {
      "cell_type": "markdown",
      "source": [
        "### Use np.random.randint(), np.random.rand(), np.random.randn(), and np.random.seed()\n",
        "to create random arrays."
      ],
      "metadata": {
        "id": "CxJifmt8Mgp3"
      }
    },
    {
      "cell_type": "code",
      "source": [
        "a9 = np.random.randint(0, 10, (3, 4))\n",
        "a9"
      ],
      "metadata": {
        "colab": {
          "base_uri": "https://localhost:8080/"
        },
        "id": "nX7JaHQvMjpY",
        "outputId": "4894ace2-879d-488c-cfa7-518718c6963b"
      },
      "execution_count": 40,
      "outputs": [
        {
          "output_type": "execute_result",
          "data": {
            "text/plain": [
              "array([[5, 5, 6, 1],\n",
              "       [2, 9, 7, 1],\n",
              "       [9, 3, 6, 2]])"
            ]
          },
          "metadata": {},
          "execution_count": 40
        }
      ]
    },
    {
      "cell_type": "code",
      "source": [
        "a9 = np.random.rand(3, 4)\n",
        "a9"
      ],
      "metadata": {
        "colab": {
          "base_uri": "https://localhost:8080/"
        },
        "id": "r6ljUnTKNVXC",
        "outputId": "1e55569b-b066-4ecb-a60e-9eee6fe40999"
      },
      "execution_count": 39,
      "outputs": [
        {
          "output_type": "execute_result",
          "data": {
            "text/plain": [
              "array([[0.72731109, 0.95836788, 0.32467562, 0.49965309],\n",
              "       [0.81127877, 0.81807148, 0.82027318, 0.51308304],\n",
              "       [0.56915858, 0.68736857, 0.11303198, 0.92582486]])"
            ]
          },
          "metadata": {},
          "execution_count": 39
        }
      ]
    },
    {
      "cell_type": "code",
      "source": [
        "# randn Generates random numbers from the standard normal distribution (mean = 0, standard deviation = 1)\n",
        "\n",
        "\n",
        "np.random.randn(2, 3)     # 2x3 array of normally distributed numbers"
      ],
      "metadata": {
        "colab": {
          "base_uri": "https://localhost:8080/"
        },
        "id": "embfGZjAOK1a",
        "outputId": "bcd6a2d2-a869-41c7-c7b8-914ef3393753"
      },
      "execution_count": 41,
      "outputs": [
        {
          "output_type": "execute_result",
          "data": {
            "text/plain": [
              "array([[-1.08440291, -0.73531742,  0.53164627],\n",
              "       [-1.00496497, -1.20108448, -0.01600326]])"
            ]
          },
          "metadata": {},
          "execution_count": 41
        }
      ]
    },
    {
      "cell_type": "code",
      "source": [
        "np.random.seed(123)  # Set seed for reproducibility\n",
        "\n",
        "# Generate 3 samples from a normal distribution\n",
        "samples = np.random.randn(3)\n",
        "print(samples)"
      ],
      "metadata": {
        "colab": {
          "base_uri": "https://localhost:8080/"
        },
        "id": "IXaKA37SOWjx",
        "outputId": "91d3b5a6-4969-44bd-db58-1aad6d2458e5"
      },
      "execution_count": 45,
      "outputs": [
        {
          "output_type": "stream",
          "name": "stdout",
          "text": [
            "[-1.0856306   0.99734545  0.2829785 ]\n"
          ]
        }
      ]
    },
    {
      "cell_type": "markdown",
      "source": [
        "###Use .mean(), .min(), .max(), .argmin(), .argmax() to summarize data."
      ],
      "metadata": {
        "id": "T_PSyytMPEgQ"
      }
    },
    {
      "cell_type": "code",
      "source": [
        "print(a2)\n",
        "\n",
        "np.max(a2)\n",
        "np.min(a2)\n",
        "np.mean(a2)\n",
        "np.argmax(a2) #index of largest number\n",
        "np.argmin(a2)"
      ],
      "metadata": {
        "colab": {
          "base_uri": "https://localhost:8080/"
        },
        "id": "scDCgGxdPF7R",
        "outputId": "7f1a99ee-2e37-40ca-9113-a6af5fa96b85"
      },
      "execution_count": 53,
      "outputs": [
        {
          "output_type": "stream",
          "name": "stdout",
          "text": [
            "[[1 2 3]\n",
            " [4 5 6]]\n"
          ]
        },
        {
          "output_type": "execute_result",
          "data": {
            "text/plain": [
              "np.int64(0)"
            ]
          },
          "metadata": {},
          "execution_count": 53
        }
      ]
    },
    {
      "cell_type": "markdown",
      "source": [
        "#Indexing and Slicing"
      ],
      "metadata": {
        "id": "7OO43kpDPxs7"
      }
    },
    {
      "cell_type": "markdown",
      "source": [
        "###Index and slice 1D and 2D arrays."
      ],
      "metadata": {
        "id": "LWrWOwYyPy1j"
      }
    },
    {
      "cell_type": "code",
      "source": [
        "print(a2)\n",
        "a2[1][2]  #indexing\n",
        "a2[: , 0:1]  #slicing"
      ],
      "metadata": {
        "colab": {
          "base_uri": "https://localhost:8080/"
        },
        "id": "C6saA_rZP2FP",
        "outputId": "c35d4821-b58f-4179-edc1-ef6d4d57734d"
      },
      "execution_count": 55,
      "outputs": [
        {
          "output_type": "stream",
          "name": "stdout",
          "text": [
            "[[1 2 3]\n",
            " [4 5 6]]\n"
          ]
        },
        {
          "output_type": "execute_result",
          "data": {
            "text/plain": [
              "array([[1],\n",
              "       [4]])"
            ]
          },
          "metadata": {},
          "execution_count": 55
        }
      ]
    },
    {
      "cell_type": "markdown",
      "source": [
        "###Access specific rows, columns, and elements."
      ],
      "metadata": {
        "id": "P5n13tojQGuU"
      }
    },
    {
      "cell_type": "code",
      "source": [
        "a2[0 , :]  #first row\n",
        "a2[: , 0]  #first column"
      ],
      "metadata": {
        "colab": {
          "base_uri": "https://localhost:8080/"
        },
        "id": "6SBiyA4cQJFE",
        "outputId": "a8eddbe1-5965-458d-8f77-824b281894a3"
      },
      "execution_count": 56,
      "outputs": [
        {
          "output_type": "execute_result",
          "data": {
            "text/plain": [
              "array([1, 4])"
            ]
          },
          "metadata": {},
          "execution_count": 56
        }
      ]
    },
    {
      "cell_type": "markdown",
      "source": [
        "###Use negative indexing."
      ],
      "metadata": {
        "id": "BB7Sy_9pQUeZ"
      }
    },
    {
      "cell_type": "code",
      "source": [
        "a2[-1][-1]"
      ],
      "metadata": {
        "colab": {
          "base_uri": "https://localhost:8080/"
        },
        "id": "4OOtPEjLQVe4",
        "outputId": "74b4e556-5630-4718-ebf8-38b319d3f9c7"
      },
      "execution_count": 57,
      "outputs": [
        {
          "output_type": "execute_result",
          "data": {
            "text/plain": [
              "np.int64(6)"
            ]
          },
          "metadata": {},
          "execution_count": 57
        }
      ]
    },
    {
      "cell_type": "markdown",
      "source": [
        "#Boolean Masking"
      ],
      "metadata": {
        "id": "0mF-VtdOQd-F"
      }
    },
    {
      "cell_type": "markdown",
      "source": [
        "###Filter values in arrays using conditions"
      ],
      "metadata": {
        "id": "8c6pbR1OQfDs"
      }
    },
    {
      "cell_type": "code",
      "source": [
        "filtered  = a2[a2<3]\n",
        "filtered"
      ],
      "metadata": {
        "colab": {
          "base_uri": "https://localhost:8080/"
        },
        "id": "EelZEArbQXm7",
        "outputId": "0fa7b23a-2c39-437f-cdc6-02f73d34bfb5"
      },
      "execution_count": 68,
      "outputs": [
        {
          "output_type": "execute_result",
          "data": {
            "text/plain": [
              "array([1, 2])"
            ]
          },
          "metadata": {},
          "execution_count": 68
        }
      ]
    },
    {
      "cell_type": "markdown",
      "source": [
        "###Combine multiple conditions with & (and), | (or)."
      ],
      "metadata": {
        "id": "Fcm_UBnkS6Ma"
      }
    },
    {
      "cell_type": "code",
      "source": [
        "filtered  = a2[(a2>3) & (a2<7)]\n",
        "filtered"
      ],
      "metadata": {
        "colab": {
          "base_uri": "https://localhost:8080/"
        },
        "id": "KpxlpS20S7UN",
        "outputId": "63739879-adf6-43ea-c00e-c4fdc17cb41d"
      },
      "execution_count": 70,
      "outputs": [
        {
          "output_type": "execute_result",
          "data": {
            "text/plain": [
              "array([4, 5, 6])"
            ]
          },
          "metadata": {},
          "execution_count": 70
        }
      ]
    },
    {
      "cell_type": "markdown",
      "source": [
        "###ount and sum filtered elements."
      ],
      "metadata": {
        "id": "K55ThoDHTU88"
      }
    },
    {
      "cell_type": "code",
      "source": [
        "mask = a2 > 3\n",
        "count = np.count_nonzero(mask)  # Number of True values\n",
        "print(count)\n",
        "\n",
        "\n",
        "np.sum(a2[a2>5])"
      ],
      "metadata": {
        "colab": {
          "base_uri": "https://localhost:8080/"
        },
        "id": "t0paPg4FTWHQ",
        "outputId": "5c0fe758-93e5-4285-ffbe-eb1aee9dd050"
      },
      "execution_count": 72,
      "outputs": [
        {
          "output_type": "stream",
          "name": "stdout",
          "text": [
            "3\n"
          ]
        },
        {
          "output_type": "execute_result",
          "data": {
            "text/plain": [
              "np.int64(6)"
            ]
          },
          "metadata": {},
          "execution_count": 72
        }
      ]
    },
    {
      "cell_type": "markdown",
      "source": [
        "#Array Math & Broadcasting"
      ],
      "metadata": {
        "id": "X2BZUdPTQt0G"
      }
    },
    {
      "cell_type": "markdown",
      "source": [
        "###Perform element-wise operations (+, -, *, /, **, %)."
      ],
      "metadata": {
        "id": "kqlV0EBlQu2Y"
      }
    },
    {
      "cell_type": "code",
      "source": [
        "for i in np.nditer(a2):\n",
        "  print(i+2)\n",
        "\n",
        "a2 + 2\n",
        "a2 ** 2"
      ],
      "metadata": {
        "colab": {
          "base_uri": "https://localhost:8080/"
        },
        "id": "fQC-n3IDQ2P6",
        "outputId": "5b24a162-df59-4eac-811c-557b345a30e2"
      },
      "execution_count": 62,
      "outputs": [
        {
          "output_type": "stream",
          "name": "stdout",
          "text": [
            "3\n",
            "4\n",
            "5\n",
            "6\n",
            "7\n",
            "8\n"
          ]
        },
        {
          "output_type": "execute_result",
          "data": {
            "text/plain": [
              "array([[ 1,  4,  9],\n",
              "       [16, 25, 36]])"
            ]
          },
          "metadata": {},
          "execution_count": 62
        }
      ]
    },
    {
      "cell_type": "markdown",
      "source": [
        "###Use broadcasting to add/subtract scalar to/from arrays."
      ],
      "metadata": {
        "id": "gxl-vnYHRbkv"
      }
    },
    {
      "cell_type": "code",
      "source": [
        "matrix = np.array([[1, 2, 3], [4, 5, 6]])  # Shape (2, 3)\n",
        "vector = np.array([10, 20, 30])             # Shape (3,)\n",
        "\n",
        "# Broadcasting: vector becomes [[10,20,30], [10,20,30]]\n",
        "print(matrix + vector)"
      ],
      "metadata": {
        "colab": {
          "base_uri": "https://localhost:8080/"
        },
        "id": "IJ_g6Ec1Rf1i",
        "outputId": "5c836599-e52f-4bca-950c-8b9927bd4a08"
      },
      "execution_count": 66,
      "outputs": [
        {
          "output_type": "stream",
          "name": "stdout",
          "text": [
            "[[11 22 33]\n",
            " [14 25 36]]\n"
          ]
        }
      ]
    },
    {
      "cell_type": "markdown",
      "source": [
        "###se np.sum(), np.prod(), np.mean(), etc."
      ],
      "metadata": {
        "id": "nGsXvdBlRmW3"
      }
    },
    {
      "cell_type": "code",
      "source": [
        "a2.sum()\n",
        "a2.prod()\n",
        "a2.mean()"
      ],
      "metadata": {
        "colab": {
          "base_uri": "https://localhost:8080/"
        },
        "id": "QHKy5VYQRndr",
        "outputId": "6b378a80-a377-41b6-c203-655dd8506ad7"
      },
      "execution_count": 65,
      "outputs": [
        {
          "output_type": "execute_result",
          "data": {
            "text/plain": [
              "np.float64(3.5)"
            ]
          },
          "metadata": {},
          "execution_count": 65
        }
      ]
    }
  ]
}