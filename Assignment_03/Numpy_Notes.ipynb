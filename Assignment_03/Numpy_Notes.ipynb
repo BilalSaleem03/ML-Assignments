{
  "nbformat": 4,
  "nbformat_minor": 0,
  "metadata": {
    "colab": {
      "provenance": []
    },
    "kernelspec": {
      "name": "python3",
      "display_name": "Python 3"
    },
    "language_info": {
      "name": "python"
    }
  },
  "cells": [
    {
      "cell_type": "code",
      "execution_count": 2,
      "metadata": {
        "id": "5arP1AkG-VZ4"
      },
      "outputs": [],
      "source": [
        "import numpy as np"
      ]
    },
    {
      "cell_type": "markdown",
      "source": [
        "#Functions to create arrays"
      ],
      "metadata": {
        "id": "NCq9So3YwiNf"
      }
    },
    {
      "cell_type": "code",
      "source": [
        "# 1D (Vector)\n",
        "a = np.array([1,2,3,4,5])\n",
        "# type(a)\n",
        "# a\n",
        "# print(a)\n",
        "\n",
        "# 2D (matrix)\n",
        "b= np.array([[1,2,3],[4,5,6]])\n",
        "# b\n",
        "\n",
        "# 3D (Tensor)\n",
        "c = np.array([[[1,2],[3,4],[5,6]]])\n",
        "c"
      ],
      "metadata": {
        "colab": {
          "base_uri": "https://localhost:8080/"
        },
        "id": "p01Zl06SsSzK",
        "outputId": "6407fb1b-4e2a-42ad-f757-0e905654bb01"
      },
      "execution_count": 11,
      "outputs": [
        {
          "output_type": "execute_result",
          "data": {
            "text/plain": [
              "numpy.ndarray"
            ]
          },
          "metadata": {},
          "execution_count": 11
        }
      ]
    },
    {
      "cell_type": "code",
      "source": [
        "# float type array\n",
        "\n",
        "# d = np.array([1,2,3,4],dtype=float)\n",
        "# d = np.array([1,2,3,4],dtype=bool)\n",
        "# d = np.array([1,2,3,4],dtype=str)\n",
        "d = np.array([1,2,'ss','4'])\n",
        "d"
      ],
      "metadata": {
        "colab": {
          "base_uri": "https://localhost:8080/"
        },
        "id": "dsD8rx3DteMT",
        "outputId": "a666b2d2-e170-42d9-e445-5bdd10d9963c"
      },
      "execution_count": 16,
      "outputs": [
        {
          "output_type": "execute_result",
          "data": {
            "text/plain": [
              "array(['1', '2', 'ss', '4'], dtype='<U21')"
            ]
          },
          "metadata": {},
          "execution_count": 16
        }
      ]
    },
    {
      "cell_type": "code",
      "source": [
        "# array using range(work exactly as range function)\n",
        "\n",
        "# e = np.arange(1,11)\n",
        "# e = np.arange(1,11 , dtype=float)\n",
        "e = np.arange(1,11 , 2)\n",
        "e"
      ],
      "metadata": {
        "colab": {
          "base_uri": "https://localhost:8080/"
        },
        "id": "zWOXIORGuLvf",
        "outputId": "f17ca449-c446-434c-cb8e-dc18dbbd2852"
      },
      "execution_count": 19,
      "outputs": [
        {
          "output_type": "execute_result",
          "data": {
            "text/plain": [
              "array([1, 3, 5, 7, 9])"
            ]
          },
          "metadata": {},
          "execution_count": 19
        }
      ]
    },
    {
      "cell_type": "code",
      "source": [
        "# reshape (to convert the shape of given array)\n",
        "np.arange(1,11, dtype=float).reshape(2,5)           #convert array to matrix to 2 rows and 5 columns but the number of items must be appropriate"
      ],
      "metadata": {
        "colab": {
          "base_uri": "https://localhost:8080/"
        },
        "id": "19INY8e1umqA",
        "outputId": "ae1415b4-22f4-4c98-82d2-5d2bbc33bc54"
      },
      "execution_count": 34,
      "outputs": [
        {
          "output_type": "execute_result",
          "data": {
            "text/plain": [
              "array([[ 1.,  2.,  3.,  4.,  5.],\n",
              "       [ 6.,  7.,  8.,  9., 10.]])"
            ]
          },
          "metadata": {},
          "execution_count": 34
        }
      ]
    },
    {
      "cell_type": "code",
      "source": [
        "# ones and  (mainly use to initializa arrays)\n",
        "# np.ones((3,4))\n",
        "# np.zeros((3,4))\n",
        "# np.full((4,5) , 3)\n",
        "# np.random.randint(0, 10,(3, 4))\n",
        "# np.random.random((3,4))   #generate array/matrix with random numbers b/w 0-1\n",
        "# np.random.random((3,4,4))\n",
        "np.random.random((3,4,4))*10"
      ],
      "metadata": {
        "colab": {
          "base_uri": "https://localhost:8080/"
        },
        "id": "8fbeioQ4vPhG",
        "outputId": "929daf4f-0eb9-4dc5-cea0-4f6188129f39"
      },
      "execution_count": 35,
      "outputs": [
        {
          "output_type": "execute_result",
          "data": {
            "text/plain": [
              "array([[[6.73274378, 3.82162238, 0.6651264 , 2.6031699 ],\n",
              "        [4.00531613, 0.95796395, 1.41994485, 3.41683668],\n",
              "        [4.24532141, 8.37092253, 8.24798429, 5.67614106],\n",
              "        [4.5773035 , 0.03600459, 2.88473731, 2.79700802]],\n",
              "\n",
              "       [[3.68417945, 8.37054277, 0.42889278, 7.32468852],\n",
              "        [2.85407081, 3.77421064, 8.05505421, 9.38908855],\n",
              "        [0.12122333, 0.73838239, 4.84256978, 9.69353063],\n",
              "        [8.70196118, 3.8319423 , 3.77356521, 7.52564437]],\n",
              "\n",
              "       [[9.59332782, 0.34494283, 6.95969805, 3.43142982],\n",
              "        [8.81837922, 4.73848605, 2.3229478 , 5.04487289],\n",
              "        [1.05028174, 8.81557112, 6.30968121, 3.12377097],\n",
              "        [0.5270247 , 7.21847905, 4.96520077, 6.77317212]]])"
            ]
          },
          "metadata": {},
          "execution_count": 35
        }
      ]
    },
    {
      "cell_type": "code",
      "source": [
        "# always produce same random number\n",
        "\n",
        "np.random.seed(3)  # Set seed for reproducibility\n",
        "\n",
        "# Generate 3 samples from a normal distribution\n",
        "samples = np.random.randn(3)\n",
        "print(samples)"
      ],
      "metadata": {
        "colab": {
          "base_uri": "https://localhost:8080/"
        },
        "id": "fMm1hdHoOuJo",
        "outputId": "ec2227c2-3a1d-4c6c-c246-cc4fff87b7de"
      },
      "execution_count": 180,
      "outputs": [
        {
          "output_type": "stream",
          "name": "stdout",
          "text": [
            "[1.78862847 0.43650985 0.09649747]\n"
          ]
        }
      ]
    },
    {
      "cell_type": "code",
      "source": [
        "# linspace also called linear space (generates points within given range at equal distance)\n",
        "\n",
        "np.linspace(1,10,5)   #generate 5 points(numbers) b/w 1-10 at equal distance\n",
        "\n",
        "#identity matric\n",
        "np.identity(10)\n"
      ],
      "metadata": {
        "colab": {
          "base_uri": "https://localhost:8080/"
        },
        "id": "Hs9htiqdwmqH",
        "outputId": "5c75c656-5186-4764-bfa9-4224adf9779c"
      },
      "execution_count": 32,
      "outputs": [
        {
          "output_type": "execute_result",
          "data": {
            "text/plain": [
              "array([[1., 0., 0., 0., 0., 0., 0., 0., 0., 0.],\n",
              "       [0., 1., 0., 0., 0., 0., 0., 0., 0., 0.],\n",
              "       [0., 0., 1., 0., 0., 0., 0., 0., 0., 0.],\n",
              "       [0., 0., 0., 1., 0., 0., 0., 0., 0., 0.],\n",
              "       [0., 0., 0., 0., 1., 0., 0., 0., 0., 0.],\n",
              "       [0., 0., 0., 0., 0., 1., 0., 0., 0., 0.],\n",
              "       [0., 0., 0., 0., 0., 0., 1., 0., 0., 0.],\n",
              "       [0., 0., 0., 0., 0., 0., 0., 1., 0., 0.],\n",
              "       [0., 0., 0., 0., 0., 0., 0., 0., 1., 0.],\n",
              "       [0., 0., 0., 0., 0., 0., 0., 0., 0., 1.]])"
            ]
          },
          "metadata": {},
          "execution_count": 32
        }
      ]
    },
    {
      "cell_type": "markdown",
      "source": [
        "#Numpy attributes\n",
        "\n",
        "* every numpyt array is the object of numpy class and so can access many attributes of that class"
      ],
      "metadata": {
        "id": "axJzIF_NyUHk"
      }
    },
    {
      "cell_type": "code",
      "source": [
        "a1 = np.arange(10)\n",
        "a2 = np.arange(12 , dtype=float).reshape(3,4)\n",
        "a3 = np.arange(8).reshape(2,2,2)"
      ],
      "metadata": {
        "colab": {
          "base_uri": "https://localhost:8080/"
        },
        "id": "tIddO7UfyWtZ",
        "outputId": "1c80d9ee-ac84-4362-c772-7b4aecf07503"
      },
      "execution_count": 37,
      "outputs": [
        {
          "output_type": "execute_result",
          "data": {
            "text/plain": [
              "array([[[0, 1],\n",
              "        [2, 3]],\n",
              "\n",
              "       [[4, 5],\n",
              "        [6, 7]]])"
            ]
          },
          "metadata": {},
          "execution_count": 37
        }
      ]
    },
    {
      "cell_type": "code",
      "source": [
        "# ndim (number of dimentions)\n",
        "# a1.ndim\n",
        "# a2.ndim\n",
        "a3.ndim"
      ],
      "metadata": {
        "colab": {
          "base_uri": "https://localhost:8080/"
        },
        "id": "lWLTOQZGzHcz",
        "outputId": "5939af49-33a0-4c60-fe46-1197b0f7aec6"
      },
      "execution_count": 40,
      "outputs": [
        {
          "output_type": "execute_result",
          "data": {
            "text/plain": [
              "3"
            ]
          },
          "metadata": {},
          "execution_count": 40
        }
      ]
    },
    {
      "cell_type": "code",
      "source": [
        "# a2.flatten()    will make the array flat"
      ],
      "metadata": {
        "id": "SJmapgRmLw4e"
      },
      "execution_count": null,
      "outputs": []
    },
    {
      "cell_type": "code",
      "source": [
        "# shape (tell shape of array)\n",
        "# a1.shape\n",
        "# a2.shape\n",
        "a3.shape"
      ],
      "metadata": {
        "colab": {
          "base_uri": "https://localhost:8080/"
        },
        "id": "V_LTktFvzXzd",
        "outputId": "640c3441-e145-4614-803a-76269f4c6731"
      },
      "execution_count": 43,
      "outputs": [
        {
          "output_type": "execute_result",
          "data": {
            "text/plain": [
              "(2, 2, 2)"
            ]
          },
          "metadata": {},
          "execution_count": 43
        }
      ]
    },
    {
      "cell_type": "code",
      "source": [
        "# size (give number of items)\n",
        "a1.size\n",
        "a3.size"
      ],
      "metadata": {
        "colab": {
          "base_uri": "https://localhost:8080/"
        },
        "id": "54T6agAvzvvE",
        "outputId": "9d5ef64e-fd7e-4d2c-907f-a269f4a6edae"
      },
      "execution_count": 45,
      "outputs": [
        {
          "output_type": "execute_result",
          "data": {
            "text/plain": [
              "8"
            ]
          },
          "metadata": {},
          "execution_count": 45
        }
      ]
    },
    {
      "cell_type": "code",
      "source": [
        "# itemsize(tell what size each item takes in memory) it give same size for int and float here but not on other ides\n",
        "# a1.itemsize\n",
        "# a3.itemsize\n",
        "a4 = np.array([1,2,3,4,5] , dtype=str)\n",
        "a4.itemsize"
      ],
      "metadata": {
        "colab": {
          "base_uri": "https://localhost:8080/"
        },
        "id": "dSYRiCQdz2k0",
        "outputId": "d6089a5c-b774-4467-de35-b98a9d971184"
      },
      "execution_count": 50,
      "outputs": [
        {
          "output_type": "execute_result",
          "data": {
            "text/plain": [
              "4"
            ]
          },
          "metadata": {},
          "execution_count": 50
        }
      ]
    },
    {
      "cell_type": "code",
      "source": [
        "# dtype(tell datatype to items)\n",
        "# a1.dtype\n",
        "a2.dtype"
      ],
      "metadata": {
        "colab": {
          "base_uri": "https://localhost:8080/"
        },
        "id": "BV0HSFkN0nzM",
        "outputId": "f160ce11-0ff8-4f81-ff69-36b8100666c6"
      },
      "execution_count": 52,
      "outputs": [
        {
          "output_type": "execute_result",
          "data": {
            "text/plain": [
              "dtype('float64')"
            ]
          },
          "metadata": {},
          "execution_count": 52
        }
      ]
    },
    {
      "cell_type": "markdown",
      "source": [
        "#Changing DataTypes"
      ],
      "metadata": {
        "id": "O_TLGkHl05TD"
      }
    },
    {
      "cell_type": "code",
      "source": [
        "#astype\n",
        "\n",
        "# a3.dtype\n",
        "a3 = a3.astype(np.int32)\n",
        "a3.dtype"
      ],
      "metadata": {
        "colab": {
          "base_uri": "https://localhost:8080/"
        },
        "id": "EZce5UIi082j",
        "outputId": "b5387519-44fb-40f8-d36e-f0fd6803f56c"
      },
      "execution_count": 56,
      "outputs": [
        {
          "output_type": "execute_result",
          "data": {
            "text/plain": [
              "dtype('int32')"
            ]
          },
          "metadata": {},
          "execution_count": 56
        }
      ]
    },
    {
      "cell_type": "markdown",
      "source": [
        "#Array Operations\n",
        "\n",
        "* we can run many mathamatical operations on our numpy array"
      ],
      "metadata": {
        "id": "6sK45-_y1l3V"
      }
    },
    {
      "cell_type": "code",
      "source": [
        "\n",
        "a1 = np.arange(12).reshape(3,4)\n",
        "a2 = np.arange(12,24).reshape(3,4)\n",
        "# a1\n",
        "# a2"
      ],
      "metadata": {
        "id": "vomja3L71pIR"
      },
      "execution_count": 67,
      "outputs": []
    },
    {
      "cell_type": "markdown",
      "source": [
        "###Scalar Operations\n",
        "\n",
        "*operating on single array with a single number"
      ],
      "metadata": {
        "id": "xhylLsL-2PnP"
      }
    },
    {
      "cell_type": "code",
      "source": [
        "#arithmatic\n",
        "\n",
        "# a1*2\n",
        "# a1-1\n",
        "# a1 /2\n",
        "\n",
        "#relational\n",
        "\n",
        "# a2 > 15\n",
        "# a2 == 15\n",
        "\n"
      ],
      "metadata": {
        "colab": {
          "base_uri": "https://localhost:8080/"
        },
        "id": "h2BgOiwX2NOy",
        "outputId": "8aafc37c-ca94-45de-fc04-637696baec70"
      },
      "execution_count": 66,
      "outputs": [
        {
          "output_type": "execute_result",
          "data": {
            "text/plain": [
              "15"
            ]
          },
          "metadata": {},
          "execution_count": 66
        }
      ]
    },
    {
      "cell_type": "markdown",
      "source": [
        "### Vector Operations\n",
        "\n",
        "* when we do operations on more than one numpy array at once"
      ],
      "metadata": {
        "id": "tR0W333p3COd"
      }
    },
    {
      "cell_type": "code",
      "source": [
        "#arithmatic\n",
        "a1+a2   #both must have same shape\n",
        "a1-a2   #both must have same shape\n"
      ],
      "metadata": {
        "colab": {
          "base_uri": "https://localhost:8080/"
        },
        "id": "2DW1HN5i3Lux",
        "outputId": "b9a9e803-2abd-47cf-cdc6-2d04f0d21488"
      },
      "execution_count": 70,
      "outputs": [
        {
          "output_type": "execute_result",
          "data": {
            "text/plain": [
              "array([[ 0,  1,  2,  3],\n",
              "       [ 4,  5,  6,  7],\n",
              "       [ 8,  9, 10, 11]])"
            ]
          },
          "metadata": {},
          "execution_count": 70
        }
      ]
    },
    {
      "cell_type": "markdown",
      "source": [
        "###Brodcasting"
      ],
      "metadata": {
        "id": "gQzDD4KzSLdy"
      }
    },
    {
      "cell_type": "code",
      "source": [
        "arr = np.array([1, 2, 3])\n",
        "print(arr + 5)  # [6, 7, 8] (5 is broadcasted to [5, 5, 5])\n",
        "\n",
        "matrix = np.array([[1, 2, 3], [4, 5, 6]])  # Shape (2, 3)\n",
        "vector = np.array([10, 20, 30])             # Shape (3,)\n",
        "\n",
        "# Broadcasting: vector becomes [[10,20,30], [10,20,30]]\n",
        "print(matrix + vector)"
      ],
      "metadata": {
        "id": "Mxkom8ALSOhU"
      },
      "execution_count": null,
      "outputs": []
    },
    {
      "cell_type": "markdown",
      "source": [
        "###Filtration"
      ],
      "metadata": {
        "id": "6iUOA-HITNvn"
      }
    },
    {
      "cell_type": "code",
      "source": [
        "filtered  = a2[(a2>3) & (a2<7)]\n",
        "filtered"
      ],
      "metadata": {
        "id": "wp7uOrRsTPiX"
      },
      "execution_count": null,
      "outputs": []
    },
    {
      "cell_type": "code",
      "source": [
        "#count nonzero values\n",
        "\n",
        "mask = a2 > 3\n",
        "count = np.count_nonzero(mask)  # Number of True values\n",
        "print(count)"
      ],
      "metadata": {
        "id": "f7Q864bcTzv3"
      },
      "execution_count": null,
      "outputs": []
    },
    {
      "cell_type": "markdown",
      "source": [
        "#Array Functions\n",
        "\n",
        "* we have alot of functions in numpy basically we have function for maximum operations we want to do on aray"
      ],
      "metadata": {
        "id": "ofmlDPoF3nhk"
      }
    },
    {
      "cell_type": "code",
      "source": [
        "a1 = np.random.random((3,3))\n",
        "a1"
      ],
      "metadata": {
        "colab": {
          "base_uri": "https://localhost:8080/"
        },
        "id": "E3BvhPRg3qdn",
        "outputId": "779d31ab-980f-4bd8-e5d5-bcf0bbeb68f6"
      },
      "execution_count": 78,
      "outputs": [
        {
          "output_type": "execute_result",
          "data": {
            "text/plain": [
              "array([[0.38269683, 0.03315605, 0.30935913],\n",
              "       [0.66782515, 0.9215962 , 0.11205827],\n",
              "       [0.43455631, 0.42063093, 0.62519618]])"
            ]
          },
          "metadata": {},
          "execution_count": 78
        }
      ]
    },
    {
      "cell_type": "code",
      "source": [
        "# round\n",
        "a1 = np.round(a1*100)         #round the array\n",
        "a1"
      ],
      "metadata": {
        "colab": {
          "base_uri": "https://localhost:8080/"
        },
        "id": "Z9xza6F_4E_B",
        "outputId": "590eea9c-8d0e-4ea5-f962-7b760522e582"
      },
      "execution_count": 79,
      "outputs": [
        {
          "output_type": "execute_result",
          "data": {
            "text/plain": [
              "array([[38.,  3., 31.],\n",
              "       [67., 92., 11.],\n",
              "       [43., 42., 63.]])"
            ]
          },
          "metadata": {},
          "execution_count": 79
        }
      ]
    },
    {
      "cell_type": "code",
      "source": [
        "# max/min/sum/product\n",
        "\n",
        "# np.max(a1)\n",
        "# np.argmax(a1) #index of largest number\n",
        "# print(np.min(a1))\n",
        "# np.min(a1)\n",
        "# np.prod(a1)\n",
        "# np.sum(a1)\n",
        "\n",
        "# now we can do these arithmatic operations on rows and columns\n",
        "# 0 --> column and 1 -->row\n",
        "np.max(a1 , axis=0)     #give max of each column\n",
        "np.sum(a1 , axis=1)     #give sum of each row\n",
        "\n",
        "\n"
      ],
      "metadata": {
        "colab": {
          "base_uri": "https://localhost:8080/"
        },
        "id": "8T86tS9x4yXQ",
        "outputId": "c0069339-8cc7-407a-f23e-1fde89436b13"
      },
      "execution_count": 88,
      "outputs": [
        {
          "output_type": "execute_result",
          "data": {
            "text/plain": [
              "array([ 72., 170., 148.])"
            ]
          },
          "metadata": {},
          "execution_count": 88
        }
      ]
    },
    {
      "cell_type": "code",
      "source": [
        "# statistic operations\n",
        "# mean/median/std/var\n",
        "\n",
        "np.mean(a1)\n",
        "np.median(a1 , axis=1)\n",
        "np.std(a1 , axis=1)       #standard daviation\n",
        "np.var(a1)                 #varience"
      ],
      "metadata": {
        "colab": {
          "base_uri": "https://localhost:8080/"
        },
        "id": "57-YRY6650lF",
        "outputId": "97f9defc-5de3-47f3-cf61-ac0ea6f7bd54"
      },
      "execution_count": 94,
      "outputs": [
        {
          "output_type": "execute_result",
          "data": {
            "text/plain": [
              "np.float64(685.5555555555555)"
            ]
          },
          "metadata": {},
          "execution_count": 94
        }
      ]
    },
    {
      "cell_type": "code",
      "source": [
        "# trignometric functions\n",
        "np.sin(a1)          #apply sin on each item"
      ],
      "metadata": {
        "colab": {
          "base_uri": "https://localhost:8080/"
        },
        "id": "8jQbA3GZ7hM9",
        "outputId": "f6acadf2-8635-473c-a6fa-a9c276ae5f21"
      },
      "execution_count": 95,
      "outputs": [
        {
          "output_type": "execute_result",
          "data": {
            "text/plain": [
              "array([[ 0.29636858,  0.14112001, -0.40403765],\n",
              "       [-0.85551998, -0.77946607, -0.99999021],\n",
              "       [-0.83177474, -0.91652155,  0.1673557 ]])"
            ]
          },
          "metadata": {},
          "execution_count": 95
        }
      ]
    },
    {
      "cell_type": "code",
      "source": [
        "# dot product   (Dot Product of matxices)->simple matxices multiplication\n",
        "a2 = np.arange(12).reshape(3,4)\n",
        "a3 = np.arange(12 , 24).reshape(4,3)\n",
        "np.dot(a2,a3)"
      ],
      "metadata": {
        "colab": {
          "base_uri": "https://localhost:8080/"
        },
        "id": "a0bdQIGS7qat",
        "outputId": "dfed3ce0-8ebb-424d-a679-a2287930da70"
      },
      "execution_count": 98,
      "outputs": [
        {
          "output_type": "execute_result",
          "data": {
            "text/plain": [
              "array([[114, 120, 126],\n",
              "       [378, 400, 422],\n",
              "       [642, 680, 718]])"
            ]
          },
          "metadata": {},
          "execution_count": 98
        }
      ]
    },
    {
      "cell_type": "code",
      "source": [
        "# log and exponent\n",
        "np.log(a1)\n",
        "np.exp(a1)\n"
      ],
      "metadata": {
        "colab": {
          "base_uri": "https://localhost:8080/"
        },
        "id": "tC48UK1p8V0P",
        "outputId": "00c864fd-b487-4168-d45a-12c5997bbbde"
      },
      "execution_count": 101,
      "outputs": [
        {
          "output_type": "execute_result",
          "data": {
            "text/plain": [
              "array([[38.,  3., 31.],\n",
              "       [67., 92., 11.],\n",
              "       [43., 42., 63.]])"
            ]
          },
          "metadata": {},
          "execution_count": 101
        }
      ]
    },
    {
      "cell_type": "code",
      "source": [
        "# round/ floor / ceil\n",
        "\n",
        "# round-> round at nearins int\n",
        "a5 = np.round(np.random.random((2,3))*10)\n",
        "\n",
        "# floor -> 3.9 will be 3\n",
        "# ceil -> 3.9 will be 4\n",
        "# np.ceil(a5)\n",
        "np.floor(a5)\n",
        "\n"
      ],
      "metadata": {
        "colab": {
          "base_uri": "https://localhost:8080/"
        },
        "id": "iDWyGaPb8gMx",
        "outputId": "bef3d49a-fca3-48fc-cdf3-9833bcebae5d"
      },
      "execution_count": 110,
      "outputs": [
        {
          "output_type": "execute_result",
          "data": {
            "text/plain": [
              "array([[4., 8., 9.],\n",
              "       [1., 2., 9.]])"
            ]
          },
          "metadata": {},
          "execution_count": 110
        }
      ]
    },
    {
      "cell_type": "markdown",
      "source": [
        "#Indexing and Slicing"
      ],
      "metadata": {
        "id": "nttzXBbS9ph1"
      }
    },
    {
      "cell_type": "code",
      "source": [
        "a1 = np.arange(10)\n",
        "a2 = np.arange(12).reshape(3,4)\n",
        "a3 = np.arange(8).reshape(2,2,2)\n",
        "a3"
      ],
      "metadata": {
        "colab": {
          "base_uri": "https://localhost:8080/"
        },
        "id": "7-Zh3gUF9tr7",
        "outputId": "9848a21d-c91f-4cb8-b033-b21adee31b0f"
      },
      "execution_count": 116,
      "outputs": [
        {
          "output_type": "execute_result",
          "data": {
            "text/plain": [
              "array([[[0, 1],\n",
              "        [2, 3]],\n",
              "\n",
              "       [[4, 5],\n",
              "        [6, 7]]])"
            ]
          },
          "metadata": {},
          "execution_count": 116
        }
      ]
    },
    {
      "cell_type": "code",
      "source": [
        "#Indexing  (fetch one item at a time)\n",
        "\n",
        "a1[-1]   #get last item\n",
        "a1[0]     #get first item\n",
        "\n",
        "a2[2][3]     #OR a2[2,3]    #give row and col\n",
        "\n",
        "a3[1][0][1] #OR a3[1,0,1]          #give which 2-D array than row and col to that 2-D\n",
        ""
      ],
      "metadata": {
        "colab": {
          "base_uri": "https://localhost:8080/"
        },
        "id": "EERbd9b--Fda",
        "outputId": "6a774ed0-7a44-44cc-ec08-d101a509f3b9"
      },
      "execution_count": 119,
      "outputs": [
        {
          "output_type": "execute_result",
          "data": {
            "text/plain": [
              "np.int64(11)"
            ]
          },
          "metadata": {},
          "execution_count": 119
        }
      ]
    },
    {
      "cell_type": "code",
      "source": [
        "# Slicing (fetch multiple items at a time)\n",
        "\n",
        "#1-D\n",
        "# print(a1[2:5])\n",
        "a1[2:5]\n",
        "a1[2:5:2]   #alternate positions\n",
        "\n",
        "# 2-D\n",
        "# array[row , col]\n",
        "a2[0 , :]   #all colums of row 1 (bacically complete row 1)\n",
        "a2[0:2 , 1:3]\n",
        "\n",
        "a2[::2 , ::3]   #get all rows ilternate and all colums with jump of two\n",
        "a2[ : :2 , 1: :2]\n",
        "a2[1 , ::3]\n",
        "a2[:2 , 1:]\n",
        "\n",
        "#3-D array\n",
        "a3 = np.arange(27).reshape(3,3,3)\n",
        "a3[0 , 1 , :]\n",
        "a3[1 , : , 1]\n",
        "a3[2 , 1: , 1:]\n",
        "a3[::2 , 0 , ::2]"
      ],
      "metadata": {
        "colab": {
          "base_uri": "https://localhost:8080/"
        },
        "id": "v6HOplud-RqM",
        "outputId": "413ffd90-733a-4465-aa44-c2133bab9cfe"
      },
      "execution_count": 140,
      "outputs": [
        {
          "output_type": "execute_result",
          "data": {
            "text/plain": [
              "array([[ 0,  2],\n",
              "       [18, 20]])"
            ]
          },
          "metadata": {},
          "execution_count": 140
        }
      ]
    },
    {
      "cell_type": "markdown",
      "source": [
        "#Iterating"
      ],
      "metadata": {
        "id": "JAnyQtSxDcJX"
      }
    },
    {
      "cell_type": "code",
      "source": [
        "#1-D\n",
        "a1\n",
        "# for i in a1:\n",
        "#   print(i)\n",
        "\n",
        "#2-D\n",
        "# nested loop OR we use nditer\n",
        "for i in np.nditer(a2):\n",
        "  print(i)\n",
        "\n",
        "# same goes with 3-D , 4-D ....\n"
      ],
      "metadata": {
        "colab": {
          "base_uri": "https://localhost:8080/"
        },
        "id": "HlQnUMVNDeEv",
        "outputId": "d75c44c8-7d0e-46c5-8b74-ce75de77c0ef"
      },
      "execution_count": 146,
      "outputs": [
        {
          "output_type": "stream",
          "name": "stdout",
          "text": [
            "0\n",
            "1\n",
            "2\n",
            "3\n",
            "4\n",
            "5\n",
            "6\n",
            "7\n",
            "8\n",
            "9\n",
            "10\n",
            "11\n"
          ]
        }
      ]
    },
    {
      "cell_type": "markdown",
      "source": [
        "#Reshaping"
      ],
      "metadata": {
        "id": "bnS4oQkXEfC3"
      }
    },
    {
      "cell_type": "code",
      "source": [
        "#Reshape(reshape the given array)\n",
        "\n",
        "#Transpose (give transpose of given array)\n",
        "np.transpose(a2)      #OR a2.T\n",
        "a3.T\n",
        "\n",
        "\n",
        "#Ravel (convert any n-D array to 1-D array)\n",
        "np.ravel(a2)\n",
        "np.ravel(a3)\n"
      ],
      "metadata": {
        "colab": {
          "base_uri": "https://localhost:8080/"
        },
        "id": "jpCFOzH5EhZ7",
        "outputId": "5af707d5-1444-4fb4-f556-556b36d287c1"
      },
      "execution_count": 156,
      "outputs": [
        {
          "output_type": "execute_result",
          "data": {
            "text/plain": [
              "array([ 0,  1,  2,  3,  4,  5,  6,  7,  8,  9, 10, 11, 12, 13, 14, 15, 16,\n",
              "       17, 18, 19, 20, 21, 22, 23, 24, 25, 26])"
            ]
          },
          "metadata": {},
          "execution_count": 156
        }
      ]
    },
    {
      "cell_type": "markdown",
      "source": [
        "#Stacking\n",
        "\n",
        "* combining two or more numpy arrays"
      ],
      "metadata": {
        "id": "Etx6DgTvFnF-"
      }
    },
    {
      "cell_type": "code",
      "source": [
        "# horizontal stacking (Arrays must be of same shape same rows and columns)\n",
        "# a6 = np.arange(20).reshape(5,4)\n",
        "a4 = np.arange(12).reshape(3,4)\n",
        "a5 = np.arange(12,24).reshape(3,4)\n",
        "\n",
        "np.hstack((a4,a5,a4))\n",
        "\n",
        "# vertical stacking\n",
        "np.vstack((a4 , a5))"
      ],
      "metadata": {
        "colab": {
          "base_uri": "https://localhost:8080/"
        },
        "id": "zhkE03JBFwac",
        "outputId": "a9926a39-efc2-4104-cad1-dfbd1ffecae1"
      },
      "execution_count": 166,
      "outputs": [
        {
          "output_type": "execute_result",
          "data": {
            "text/plain": [
              "array([[ 0,  1,  2,  3],\n",
              "       [ 4,  5,  6,  7],\n",
              "       [ 8,  9, 10, 11],\n",
              "       [12, 13, 14, 15],\n",
              "       [16, 17, 18, 19],\n",
              "       [20, 21, 22, 23]])"
            ]
          },
          "metadata": {},
          "execution_count": 166
        }
      ]
    },
    {
      "cell_type": "markdown",
      "source": [
        "#Splitting\n",
        "\n",
        "* opposite of stacking\n",
        "* we can only split in equal parts"
      ],
      "metadata": {
        "id": "tjcEke9SG0ZF"
      }
    },
    {
      "cell_type": "code",
      "source": [
        "#horizontal splitting\n",
        "np.hsplit(a4 , 2)         #split a4 in 2 equla parts horizontally\n",
        "\n",
        "\n",
        "#vertical splitting\n",
        "np.vsplit(a4 , 3)"
      ],
      "metadata": {
        "colab": {
          "base_uri": "https://localhost:8080/"
        },
        "id": "UUacrT2yG9xI",
        "outputId": "6501e674-2d4b-4764-978a-17fd2e2746ce"
      },
      "execution_count": 169,
      "outputs": [
        {
          "output_type": "execute_result",
          "data": {
            "text/plain": [
              "[array([[0, 1, 2, 3]]), array([[4, 5, 6, 7]]), array([[ 8,  9, 10, 11]])]"
            ]
          },
          "metadata": {},
          "execution_count": 169
        }
      ]
    }
  ]
}